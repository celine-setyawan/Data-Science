{
  "nbformat": 4,
  "nbformat_minor": 0,
  "metadata": {
    "colab": {
      "name": "[Experiment] IndoNLU IndoBERT-base-p2.ipynb",
      "provenance": [],
      "collapsed_sections": [],
      "toc_visible": true,
      "include_colab_link": true
    },
    "kernelspec": {
      "name": "python3",
      "display_name": "Python 3"
    },
    "language_info": {
      "name": "python"
    },
    "widgets": {
      "application/vnd.jupyter.widget-state+json": {
        "b136d62d354649bab8a3cda50185d0fa": {
          "model_module": "@jupyter-widgets/controls",
          "model_name": "HBoxModel",
          "state": {
            "_view_name": "HBoxView",
            "_dom_classes": [],
            "_model_name": "HBoxModel",
            "_view_module": "@jupyter-widgets/controls",
            "_model_module_version": "1.5.0",
            "_view_count": null,
            "_view_module_version": "1.5.0",
            "box_style": "",
            "layout": "IPY_MODEL_bb75a37ddcec4b27b424396ee5b89081",
            "_model_module": "@jupyter-widgets/controls",
            "children": [
              "IPY_MODEL_29f8a4339bcf455c8b321a9ece9b92bb",
              "IPY_MODEL_5a730f0ff6f24b9797c7e6aee42b3455"
            ]
          }
        },
        "bb75a37ddcec4b27b424396ee5b89081": {
          "model_module": "@jupyter-widgets/base",
          "model_name": "LayoutModel",
          "state": {
            "_view_name": "LayoutView",
            "grid_template_rows": null,
            "right": null,
            "justify_content": null,
            "_view_module": "@jupyter-widgets/base",
            "overflow": null,
            "_model_module_version": "1.2.0",
            "_view_count": null,
            "flex_flow": null,
            "width": null,
            "min_width": null,
            "border": null,
            "align_items": null,
            "bottom": null,
            "_model_module": "@jupyter-widgets/base",
            "top": null,
            "grid_column": null,
            "overflow_y": null,
            "overflow_x": null,
            "grid_auto_flow": null,
            "grid_area": null,
            "grid_template_columns": null,
            "flex": null,
            "_model_name": "LayoutModel",
            "justify_items": null,
            "grid_row": null,
            "max_height": null,
            "align_content": null,
            "visibility": null,
            "align_self": null,
            "height": null,
            "min_height": null,
            "padding": null,
            "grid_auto_rows": null,
            "grid_gap": null,
            "max_width": null,
            "order": null,
            "_view_module_version": "1.2.0",
            "grid_template_areas": null,
            "object_position": null,
            "object_fit": null,
            "grid_auto_columns": null,
            "margin": null,
            "display": null,
            "left": null
          }
        },
        "29f8a4339bcf455c8b321a9ece9b92bb": {
          "model_module": "@jupyter-widgets/controls",
          "model_name": "FloatProgressModel",
          "state": {
            "_view_name": "ProgressView",
            "style": "IPY_MODEL_5d357619c344410197e25dcd45b1db4f",
            "_dom_classes": [],
            "description": "Downloading: 100%",
            "_model_name": "FloatProgressModel",
            "bar_style": "success",
            "max": 229167,
            "_view_module": "@jupyter-widgets/controls",
            "_model_module_version": "1.5.0",
            "value": 229167,
            "_view_count": null,
            "_view_module_version": "1.5.0",
            "orientation": "horizontal",
            "min": 0,
            "description_tooltip": null,
            "_model_module": "@jupyter-widgets/controls",
            "layout": "IPY_MODEL_02da03dcde494932b16af981f7e60c95"
          }
        },
        "5a730f0ff6f24b9797c7e6aee42b3455": {
          "model_module": "@jupyter-widgets/controls",
          "model_name": "HTMLModel",
          "state": {
            "_view_name": "HTMLView",
            "style": "IPY_MODEL_b1fd566f3ec345bc8cc9f2a2740f3e0c",
            "_dom_classes": [],
            "description": "",
            "_model_name": "HTMLModel",
            "placeholder": "​",
            "_view_module": "@jupyter-widgets/controls",
            "_model_module_version": "1.5.0",
            "value": " 229k/229k [00:00&lt;00:00, 1.99MB/s]",
            "_view_count": null,
            "_view_module_version": "1.5.0",
            "description_tooltip": null,
            "_model_module": "@jupyter-widgets/controls",
            "layout": "IPY_MODEL_af5a407b492f4cb1bd9d5c5c4f910dd8"
          }
        },
        "5d357619c344410197e25dcd45b1db4f": {
          "model_module": "@jupyter-widgets/controls",
          "model_name": "ProgressStyleModel",
          "state": {
            "_view_name": "StyleView",
            "_model_name": "ProgressStyleModel",
            "description_width": "initial",
            "_view_module": "@jupyter-widgets/base",
            "_model_module_version": "1.5.0",
            "_view_count": null,
            "_view_module_version": "1.2.0",
            "bar_color": null,
            "_model_module": "@jupyter-widgets/controls"
          }
        },
        "02da03dcde494932b16af981f7e60c95": {
          "model_module": "@jupyter-widgets/base",
          "model_name": "LayoutModel",
          "state": {
            "_view_name": "LayoutView",
            "grid_template_rows": null,
            "right": null,
            "justify_content": null,
            "_view_module": "@jupyter-widgets/base",
            "overflow": null,
            "_model_module_version": "1.2.0",
            "_view_count": null,
            "flex_flow": null,
            "width": null,
            "min_width": null,
            "border": null,
            "align_items": null,
            "bottom": null,
            "_model_module": "@jupyter-widgets/base",
            "top": null,
            "grid_column": null,
            "overflow_y": null,
            "overflow_x": null,
            "grid_auto_flow": null,
            "grid_area": null,
            "grid_template_columns": null,
            "flex": null,
            "_model_name": "LayoutModel",
            "justify_items": null,
            "grid_row": null,
            "max_height": null,
            "align_content": null,
            "visibility": null,
            "align_self": null,
            "height": null,
            "min_height": null,
            "padding": null,
            "grid_auto_rows": null,
            "grid_gap": null,
            "max_width": null,
            "order": null,
            "_view_module_version": "1.2.0",
            "grid_template_areas": null,
            "object_position": null,
            "object_fit": null,
            "grid_auto_columns": null,
            "margin": null,
            "display": null,
            "left": null
          }
        },
        "b1fd566f3ec345bc8cc9f2a2740f3e0c": {
          "model_module": "@jupyter-widgets/controls",
          "model_name": "DescriptionStyleModel",
          "state": {
            "_view_name": "StyleView",
            "_model_name": "DescriptionStyleModel",
            "description_width": "",
            "_view_module": "@jupyter-widgets/base",
            "_model_module_version": "1.5.0",
            "_view_count": null,
            "_view_module_version": "1.2.0",
            "_model_module": "@jupyter-widgets/controls"
          }
        },
        "af5a407b492f4cb1bd9d5c5c4f910dd8": {
          "model_module": "@jupyter-widgets/base",
          "model_name": "LayoutModel",
          "state": {
            "_view_name": "LayoutView",
            "grid_template_rows": null,
            "right": null,
            "justify_content": null,
            "_view_module": "@jupyter-widgets/base",
            "overflow": null,
            "_model_module_version": "1.2.0",
            "_view_count": null,
            "flex_flow": null,
            "width": null,
            "min_width": null,
            "border": null,
            "align_items": null,
            "bottom": null,
            "_model_module": "@jupyter-widgets/base",
            "top": null,
            "grid_column": null,
            "overflow_y": null,
            "overflow_x": null,
            "grid_auto_flow": null,
            "grid_area": null,
            "grid_template_columns": null,
            "flex": null,
            "_model_name": "LayoutModel",
            "justify_items": null,
            "grid_row": null,
            "max_height": null,
            "align_content": null,
            "visibility": null,
            "align_self": null,
            "height": null,
            "min_height": null,
            "padding": null,
            "grid_auto_rows": null,
            "grid_gap": null,
            "max_width": null,
            "order": null,
            "_view_module_version": "1.2.0",
            "grid_template_areas": null,
            "object_position": null,
            "object_fit": null,
            "grid_auto_columns": null,
            "margin": null,
            "display": null,
            "left": null
          }
        },
        "7958632833174859b997b6530102de25": {
          "model_module": "@jupyter-widgets/controls",
          "model_name": "HBoxModel",
          "state": {
            "_view_name": "HBoxView",
            "_dom_classes": [],
            "_model_name": "HBoxModel",
            "_view_module": "@jupyter-widgets/controls",
            "_model_module_version": "1.5.0",
            "_view_count": null,
            "_view_module_version": "1.5.0",
            "box_style": "",
            "layout": "IPY_MODEL_c378dffd32f14bfcb38092ec3fde3a0b",
            "_model_module": "@jupyter-widgets/controls",
            "children": [
              "IPY_MODEL_7ce56119da5448e6a97fe1f80525d8e2",
              "IPY_MODEL_6f8bc1b0924a4a21ac4f2799167f4042"
            ]
          }
        },
        "c378dffd32f14bfcb38092ec3fde3a0b": {
          "model_module": "@jupyter-widgets/base",
          "model_name": "LayoutModel",
          "state": {
            "_view_name": "LayoutView",
            "grid_template_rows": null,
            "right": null,
            "justify_content": null,
            "_view_module": "@jupyter-widgets/base",
            "overflow": null,
            "_model_module_version": "1.2.0",
            "_view_count": null,
            "flex_flow": null,
            "width": null,
            "min_width": null,
            "border": null,
            "align_items": null,
            "bottom": null,
            "_model_module": "@jupyter-widgets/base",
            "top": null,
            "grid_column": null,
            "overflow_y": null,
            "overflow_x": null,
            "grid_auto_flow": null,
            "grid_area": null,
            "grid_template_columns": null,
            "flex": null,
            "_model_name": "LayoutModel",
            "justify_items": null,
            "grid_row": null,
            "max_height": null,
            "align_content": null,
            "visibility": null,
            "align_self": null,
            "height": null,
            "min_height": null,
            "padding": null,
            "grid_auto_rows": null,
            "grid_gap": null,
            "max_width": null,
            "order": null,
            "_view_module_version": "1.2.0",
            "grid_template_areas": null,
            "object_position": null,
            "object_fit": null,
            "grid_auto_columns": null,
            "margin": null,
            "display": null,
            "left": null
          }
        },
        "7ce56119da5448e6a97fe1f80525d8e2": {
          "model_module": "@jupyter-widgets/controls",
          "model_name": "FloatProgressModel",
          "state": {
            "_view_name": "ProgressView",
            "style": "IPY_MODEL_450fcf2454f243b297e50850b992f83e",
            "_dom_classes": [],
            "description": "Downloading: 100%",
            "_model_name": "FloatProgressModel",
            "bar_style": "success",
            "max": 112,
            "_view_module": "@jupyter-widgets/controls",
            "_model_module_version": "1.5.0",
            "value": 112,
            "_view_count": null,
            "_view_module_version": "1.5.0",
            "orientation": "horizontal",
            "min": 0,
            "description_tooltip": null,
            "_model_module": "@jupyter-widgets/controls",
            "layout": "IPY_MODEL_855ba67b53224e02b459a3d909b5223f"
          }
        },
        "6f8bc1b0924a4a21ac4f2799167f4042": {
          "model_module": "@jupyter-widgets/controls",
          "model_name": "HTMLModel",
          "state": {
            "_view_name": "HTMLView",
            "style": "IPY_MODEL_975d80d69a8b4456840c6353d9fc7f83",
            "_dom_classes": [],
            "description": "",
            "_model_name": "HTMLModel",
            "placeholder": "​",
            "_view_module": "@jupyter-widgets/controls",
            "_model_module_version": "1.5.0",
            "value": " 112/112 [00:00&lt;00:00, 545B/s]",
            "_view_count": null,
            "_view_module_version": "1.5.0",
            "description_tooltip": null,
            "_model_module": "@jupyter-widgets/controls",
            "layout": "IPY_MODEL_90091782421645528fa11988371a86c6"
          }
        },
        "450fcf2454f243b297e50850b992f83e": {
          "model_module": "@jupyter-widgets/controls",
          "model_name": "ProgressStyleModel",
          "state": {
            "_view_name": "StyleView",
            "_model_name": "ProgressStyleModel",
            "description_width": "initial",
            "_view_module": "@jupyter-widgets/base",
            "_model_module_version": "1.5.0",
            "_view_count": null,
            "_view_module_version": "1.2.0",
            "bar_color": null,
            "_model_module": "@jupyter-widgets/controls"
          }
        },
        "855ba67b53224e02b459a3d909b5223f": {
          "model_module": "@jupyter-widgets/base",
          "model_name": "LayoutModel",
          "state": {
            "_view_name": "LayoutView",
            "grid_template_rows": null,
            "right": null,
            "justify_content": null,
            "_view_module": "@jupyter-widgets/base",
            "overflow": null,
            "_model_module_version": "1.2.0",
            "_view_count": null,
            "flex_flow": null,
            "width": null,
            "min_width": null,
            "border": null,
            "align_items": null,
            "bottom": null,
            "_model_module": "@jupyter-widgets/base",
            "top": null,
            "grid_column": null,
            "overflow_y": null,
            "overflow_x": null,
            "grid_auto_flow": null,
            "grid_area": null,
            "grid_template_columns": null,
            "flex": null,
            "_model_name": "LayoutModel",
            "justify_items": null,
            "grid_row": null,
            "max_height": null,
            "align_content": null,
            "visibility": null,
            "align_self": null,
            "height": null,
            "min_height": null,
            "padding": null,
            "grid_auto_rows": null,
            "grid_gap": null,
            "max_width": null,
            "order": null,
            "_view_module_version": "1.2.0",
            "grid_template_areas": null,
            "object_position": null,
            "object_fit": null,
            "grid_auto_columns": null,
            "margin": null,
            "display": null,
            "left": null
          }
        },
        "975d80d69a8b4456840c6353d9fc7f83": {
          "model_module": "@jupyter-widgets/controls",
          "model_name": "DescriptionStyleModel",
          "state": {
            "_view_name": "StyleView",
            "_model_name": "DescriptionStyleModel",
            "description_width": "",
            "_view_module": "@jupyter-widgets/base",
            "_model_module_version": "1.5.0",
            "_view_count": null,
            "_view_module_version": "1.2.0",
            "_model_module": "@jupyter-widgets/controls"
          }
        },
        "90091782421645528fa11988371a86c6": {
          "model_module": "@jupyter-widgets/base",
          "model_name": "LayoutModel",
          "state": {
            "_view_name": "LayoutView",
            "grid_template_rows": null,
            "right": null,
            "justify_content": null,
            "_view_module": "@jupyter-widgets/base",
            "overflow": null,
            "_model_module_version": "1.2.0",
            "_view_count": null,
            "flex_flow": null,
            "width": null,
            "min_width": null,
            "border": null,
            "align_items": null,
            "bottom": null,
            "_model_module": "@jupyter-widgets/base",
            "top": null,
            "grid_column": null,
            "overflow_y": null,
            "overflow_x": null,
            "grid_auto_flow": null,
            "grid_area": null,
            "grid_template_columns": null,
            "flex": null,
            "_model_name": "LayoutModel",
            "justify_items": null,
            "grid_row": null,
            "max_height": null,
            "align_content": null,
            "visibility": null,
            "align_self": null,
            "height": null,
            "min_height": null,
            "padding": null,
            "grid_auto_rows": null,
            "grid_gap": null,
            "max_width": null,
            "order": null,
            "_view_module_version": "1.2.0",
            "grid_template_areas": null,
            "object_position": null,
            "object_fit": null,
            "grid_auto_columns": null,
            "margin": null,
            "display": null,
            "left": null
          }
        },
        "4728947d72e348799b731037acc4dba7": {
          "model_module": "@jupyter-widgets/controls",
          "model_name": "HBoxModel",
          "state": {
            "_view_name": "HBoxView",
            "_dom_classes": [],
            "_model_name": "HBoxModel",
            "_view_module": "@jupyter-widgets/controls",
            "_model_module_version": "1.5.0",
            "_view_count": null,
            "_view_module_version": "1.5.0",
            "box_style": "",
            "layout": "IPY_MODEL_a4261ddffcfc452c8e8d6254cec0f9c3",
            "_model_module": "@jupyter-widgets/controls",
            "children": [
              "IPY_MODEL_eda24cd3c3e143e99ed0ab7af1714263",
              "IPY_MODEL_83a7213fb8924f52addbcf8c6971072d"
            ]
          }
        },
        "a4261ddffcfc452c8e8d6254cec0f9c3": {
          "model_module": "@jupyter-widgets/base",
          "model_name": "LayoutModel",
          "state": {
            "_view_name": "LayoutView",
            "grid_template_rows": null,
            "right": null,
            "justify_content": null,
            "_view_module": "@jupyter-widgets/base",
            "overflow": null,
            "_model_module_version": "1.2.0",
            "_view_count": null,
            "flex_flow": null,
            "width": null,
            "min_width": null,
            "border": null,
            "align_items": null,
            "bottom": null,
            "_model_module": "@jupyter-widgets/base",
            "top": null,
            "grid_column": null,
            "overflow_y": null,
            "overflow_x": null,
            "grid_auto_flow": null,
            "grid_area": null,
            "grid_template_columns": null,
            "flex": null,
            "_model_name": "LayoutModel",
            "justify_items": null,
            "grid_row": null,
            "max_height": null,
            "align_content": null,
            "visibility": null,
            "align_self": null,
            "height": null,
            "min_height": null,
            "padding": null,
            "grid_auto_rows": null,
            "grid_gap": null,
            "max_width": null,
            "order": null,
            "_view_module_version": "1.2.0",
            "grid_template_areas": null,
            "object_position": null,
            "object_fit": null,
            "grid_auto_columns": null,
            "margin": null,
            "display": null,
            "left": null
          }
        },
        "eda24cd3c3e143e99ed0ab7af1714263": {
          "model_module": "@jupyter-widgets/controls",
          "model_name": "FloatProgressModel",
          "state": {
            "_view_name": "ProgressView",
            "style": "IPY_MODEL_fddddf11d8804f088c2bdacb13024975",
            "_dom_classes": [],
            "description": "Downloading: 100%",
            "_model_name": "FloatProgressModel",
            "bar_style": "success",
            "max": 2,
            "_view_module": "@jupyter-widgets/controls",
            "_model_module_version": "1.5.0",
            "value": 2,
            "_view_count": null,
            "_view_module_version": "1.5.0",
            "orientation": "horizontal",
            "min": 0,
            "description_tooltip": null,
            "_model_module": "@jupyter-widgets/controls",
            "layout": "IPY_MODEL_c5de04ecbe0e4803adbbb70b245158a6"
          }
        },
        "83a7213fb8924f52addbcf8c6971072d": {
          "model_module": "@jupyter-widgets/controls",
          "model_name": "HTMLModel",
          "state": {
            "_view_name": "HTMLView",
            "style": "IPY_MODEL_6b3faebc4b634f5abff604fa0fe8f836",
            "_dom_classes": [],
            "description": "",
            "_model_name": "HTMLModel",
            "placeholder": "​",
            "_view_module": "@jupyter-widgets/controls",
            "_model_module_version": "1.5.0",
            "value": " 2.00/2.00 [00:00&lt;00:00, 22.5B/s]",
            "_view_count": null,
            "_view_module_version": "1.5.0",
            "description_tooltip": null,
            "_model_module": "@jupyter-widgets/controls",
            "layout": "IPY_MODEL_3173058300c84306a38e15ab1904d834"
          }
        },
        "fddddf11d8804f088c2bdacb13024975": {
          "model_module": "@jupyter-widgets/controls",
          "model_name": "ProgressStyleModel",
          "state": {
            "_view_name": "StyleView",
            "_model_name": "ProgressStyleModel",
            "description_width": "initial",
            "_view_module": "@jupyter-widgets/base",
            "_model_module_version": "1.5.0",
            "_view_count": null,
            "_view_module_version": "1.2.0",
            "bar_color": null,
            "_model_module": "@jupyter-widgets/controls"
          }
        },
        "c5de04ecbe0e4803adbbb70b245158a6": {
          "model_module": "@jupyter-widgets/base",
          "model_name": "LayoutModel",
          "state": {
            "_view_name": "LayoutView",
            "grid_template_rows": null,
            "right": null,
            "justify_content": null,
            "_view_module": "@jupyter-widgets/base",
            "overflow": null,
            "_model_module_version": "1.2.0",
            "_view_count": null,
            "flex_flow": null,
            "width": null,
            "min_width": null,
            "border": null,
            "align_items": null,
            "bottom": null,
            "_model_module": "@jupyter-widgets/base",
            "top": null,
            "grid_column": null,
            "overflow_y": null,
            "overflow_x": null,
            "grid_auto_flow": null,
            "grid_area": null,
            "grid_template_columns": null,
            "flex": null,
            "_model_name": "LayoutModel",
            "justify_items": null,
            "grid_row": null,
            "max_height": null,
            "align_content": null,
            "visibility": null,
            "align_self": null,
            "height": null,
            "min_height": null,
            "padding": null,
            "grid_auto_rows": null,
            "grid_gap": null,
            "max_width": null,
            "order": null,
            "_view_module_version": "1.2.0",
            "grid_template_areas": null,
            "object_position": null,
            "object_fit": null,
            "grid_auto_columns": null,
            "margin": null,
            "display": null,
            "left": null
          }
        },
        "6b3faebc4b634f5abff604fa0fe8f836": {
          "model_module": "@jupyter-widgets/controls",
          "model_name": "DescriptionStyleModel",
          "state": {
            "_view_name": "StyleView",
            "_model_name": "DescriptionStyleModel",
            "description_width": "",
            "_view_module": "@jupyter-widgets/base",
            "_model_module_version": "1.5.0",
            "_view_count": null,
            "_view_module_version": "1.2.0",
            "_model_module": "@jupyter-widgets/controls"
          }
        },
        "3173058300c84306a38e15ab1904d834": {
          "model_module": "@jupyter-widgets/base",
          "model_name": "LayoutModel",
          "state": {
            "_view_name": "LayoutView",
            "grid_template_rows": null,
            "right": null,
            "justify_content": null,
            "_view_module": "@jupyter-widgets/base",
            "overflow": null,
            "_model_module_version": "1.2.0",
            "_view_count": null,
            "flex_flow": null,
            "width": null,
            "min_width": null,
            "border": null,
            "align_items": null,
            "bottom": null,
            "_model_module": "@jupyter-widgets/base",
            "top": null,
            "grid_column": null,
            "overflow_y": null,
            "overflow_x": null,
            "grid_auto_flow": null,
            "grid_area": null,
            "grid_template_columns": null,
            "flex": null,
            "_model_name": "LayoutModel",
            "justify_items": null,
            "grid_row": null,
            "max_height": null,
            "align_content": null,
            "visibility": null,
            "align_self": null,
            "height": null,
            "min_height": null,
            "padding": null,
            "grid_auto_rows": null,
            "grid_gap": null,
            "max_width": null,
            "order": null,
            "_view_module_version": "1.2.0",
            "grid_template_areas": null,
            "object_position": null,
            "object_fit": null,
            "grid_auto_columns": null,
            "margin": null,
            "display": null,
            "left": null
          }
        },
        "10029caaf93748af8e4a517ca2cc709d": {
          "model_module": "@jupyter-widgets/controls",
          "model_name": "HBoxModel",
          "state": {
            "_view_name": "HBoxView",
            "_dom_classes": [],
            "_model_name": "HBoxModel",
            "_view_module": "@jupyter-widgets/controls",
            "_model_module_version": "1.5.0",
            "_view_count": null,
            "_view_module_version": "1.5.0",
            "box_style": "",
            "layout": "IPY_MODEL_db539f762fdc495fa927bc2634daec75",
            "_model_module": "@jupyter-widgets/controls",
            "children": [
              "IPY_MODEL_640fefd02a7f4f1286198498240e6f2a",
              "IPY_MODEL_dcbbcf79b70e403ebd3db340603f31b4"
            ]
          }
        },
        "db539f762fdc495fa927bc2634daec75": {
          "model_module": "@jupyter-widgets/base",
          "model_name": "LayoutModel",
          "state": {
            "_view_name": "LayoutView",
            "grid_template_rows": null,
            "right": null,
            "justify_content": null,
            "_view_module": "@jupyter-widgets/base",
            "overflow": null,
            "_model_module_version": "1.2.0",
            "_view_count": null,
            "flex_flow": null,
            "width": null,
            "min_width": null,
            "border": null,
            "align_items": null,
            "bottom": null,
            "_model_module": "@jupyter-widgets/base",
            "top": null,
            "grid_column": null,
            "overflow_y": null,
            "overflow_x": null,
            "grid_auto_flow": null,
            "grid_area": null,
            "grid_template_columns": null,
            "flex": null,
            "_model_name": "LayoutModel",
            "justify_items": null,
            "grid_row": null,
            "max_height": null,
            "align_content": null,
            "visibility": null,
            "align_self": null,
            "height": null,
            "min_height": null,
            "padding": null,
            "grid_auto_rows": null,
            "grid_gap": null,
            "max_width": null,
            "order": null,
            "_view_module_version": "1.2.0",
            "grid_template_areas": null,
            "object_position": null,
            "object_fit": null,
            "grid_auto_columns": null,
            "margin": null,
            "display": null,
            "left": null
          }
        },
        "640fefd02a7f4f1286198498240e6f2a": {
          "model_module": "@jupyter-widgets/controls",
          "model_name": "FloatProgressModel",
          "state": {
            "_view_name": "ProgressView",
            "style": "IPY_MODEL_6094a1a9731c44e2b2a676bdaacf8c7b",
            "_dom_classes": [],
            "description": "Downloading: 100%",
            "_model_name": "FloatProgressModel",
            "bar_style": "success",
            "max": 1534,
            "_view_module": "@jupyter-widgets/controls",
            "_model_module_version": "1.5.0",
            "value": 1534,
            "_view_count": null,
            "_view_module_version": "1.5.0",
            "orientation": "horizontal",
            "min": 0,
            "description_tooltip": null,
            "_model_module": "@jupyter-widgets/controls",
            "layout": "IPY_MODEL_50d6e06a9b9e434a9c42b9ea33224ad7"
          }
        },
        "dcbbcf79b70e403ebd3db340603f31b4": {
          "model_module": "@jupyter-widgets/controls",
          "model_name": "HTMLModel",
          "state": {
            "_view_name": "HTMLView",
            "style": "IPY_MODEL_79768006cf7c45e1a881c8cca1f2d43f",
            "_dom_classes": [],
            "description": "",
            "_model_name": "HTMLModel",
            "placeholder": "​",
            "_view_module": "@jupyter-widgets/controls",
            "_model_module_version": "1.5.0",
            "value": " 1.53k/1.53k [00:00&lt;00:00, 12.4kB/s]",
            "_view_count": null,
            "_view_module_version": "1.5.0",
            "description_tooltip": null,
            "_model_module": "@jupyter-widgets/controls",
            "layout": "IPY_MODEL_54b23e98a75d4a159c4feba688cbdfa9"
          }
        },
        "6094a1a9731c44e2b2a676bdaacf8c7b": {
          "model_module": "@jupyter-widgets/controls",
          "model_name": "ProgressStyleModel",
          "state": {
            "_view_name": "StyleView",
            "_model_name": "ProgressStyleModel",
            "description_width": "initial",
            "_view_module": "@jupyter-widgets/base",
            "_model_module_version": "1.5.0",
            "_view_count": null,
            "_view_module_version": "1.2.0",
            "bar_color": null,
            "_model_module": "@jupyter-widgets/controls"
          }
        },
        "50d6e06a9b9e434a9c42b9ea33224ad7": {
          "model_module": "@jupyter-widgets/base",
          "model_name": "LayoutModel",
          "state": {
            "_view_name": "LayoutView",
            "grid_template_rows": null,
            "right": null,
            "justify_content": null,
            "_view_module": "@jupyter-widgets/base",
            "overflow": null,
            "_model_module_version": "1.2.0",
            "_view_count": null,
            "flex_flow": null,
            "width": null,
            "min_width": null,
            "border": null,
            "align_items": null,
            "bottom": null,
            "_model_module": "@jupyter-widgets/base",
            "top": null,
            "grid_column": null,
            "overflow_y": null,
            "overflow_x": null,
            "grid_auto_flow": null,
            "grid_area": null,
            "grid_template_columns": null,
            "flex": null,
            "_model_name": "LayoutModel",
            "justify_items": null,
            "grid_row": null,
            "max_height": null,
            "align_content": null,
            "visibility": null,
            "align_self": null,
            "height": null,
            "min_height": null,
            "padding": null,
            "grid_auto_rows": null,
            "grid_gap": null,
            "max_width": null,
            "order": null,
            "_view_module_version": "1.2.0",
            "grid_template_areas": null,
            "object_position": null,
            "object_fit": null,
            "grid_auto_columns": null,
            "margin": null,
            "display": null,
            "left": null
          }
        },
        "79768006cf7c45e1a881c8cca1f2d43f": {
          "model_module": "@jupyter-widgets/controls",
          "model_name": "DescriptionStyleModel",
          "state": {
            "_view_name": "StyleView",
            "_model_name": "DescriptionStyleModel",
            "description_width": "",
            "_view_module": "@jupyter-widgets/base",
            "_model_module_version": "1.5.0",
            "_view_count": null,
            "_view_module_version": "1.2.0",
            "_model_module": "@jupyter-widgets/controls"
          }
        },
        "54b23e98a75d4a159c4feba688cbdfa9": {
          "model_module": "@jupyter-widgets/base",
          "model_name": "LayoutModel",
          "state": {
            "_view_name": "LayoutView",
            "grid_template_rows": null,
            "right": null,
            "justify_content": null,
            "_view_module": "@jupyter-widgets/base",
            "overflow": null,
            "_model_module_version": "1.2.0",
            "_view_count": null,
            "flex_flow": null,
            "width": null,
            "min_width": null,
            "border": null,
            "align_items": null,
            "bottom": null,
            "_model_module": "@jupyter-widgets/base",
            "top": null,
            "grid_column": null,
            "overflow_y": null,
            "overflow_x": null,
            "grid_auto_flow": null,
            "grid_area": null,
            "grid_template_columns": null,
            "flex": null,
            "_model_name": "LayoutModel",
            "justify_items": null,
            "grid_row": null,
            "max_height": null,
            "align_content": null,
            "visibility": null,
            "align_self": null,
            "height": null,
            "min_height": null,
            "padding": null,
            "grid_auto_rows": null,
            "grid_gap": null,
            "max_width": null,
            "order": null,
            "_view_module_version": "1.2.0",
            "grid_template_areas": null,
            "object_position": null,
            "object_fit": null,
            "grid_auto_columns": null,
            "margin": null,
            "display": null,
            "left": null
          }
        },
        "c3dd385dc6e84f1d9a6c4b4121711c23": {
          "model_module": "@jupyter-widgets/controls",
          "model_name": "HBoxModel",
          "state": {
            "_view_name": "HBoxView",
            "_dom_classes": [],
            "_model_name": "HBoxModel",
            "_view_module": "@jupyter-widgets/controls",
            "_model_module_version": "1.5.0",
            "_view_count": null,
            "_view_module_version": "1.5.0",
            "box_style": "",
            "layout": "IPY_MODEL_f5941ab39af64c4c8aceb043e64faf9b",
            "_model_module": "@jupyter-widgets/controls",
            "children": [
              "IPY_MODEL_866b0213f8fb4caab104e0e3f95a0a5b",
              "IPY_MODEL_895641bdca3145cf88597d0123f348bf"
            ]
          }
        },
        "f5941ab39af64c4c8aceb043e64faf9b": {
          "model_module": "@jupyter-widgets/base",
          "model_name": "LayoutModel",
          "state": {
            "_view_name": "LayoutView",
            "grid_template_rows": null,
            "right": null,
            "justify_content": null,
            "_view_module": "@jupyter-widgets/base",
            "overflow": null,
            "_model_module_version": "1.2.0",
            "_view_count": null,
            "flex_flow": null,
            "width": null,
            "min_width": null,
            "border": null,
            "align_items": null,
            "bottom": null,
            "_model_module": "@jupyter-widgets/base",
            "top": null,
            "grid_column": null,
            "overflow_y": null,
            "overflow_x": null,
            "grid_auto_flow": null,
            "grid_area": null,
            "grid_template_columns": null,
            "flex": null,
            "_model_name": "LayoutModel",
            "justify_items": null,
            "grid_row": null,
            "max_height": null,
            "align_content": null,
            "visibility": null,
            "align_self": null,
            "height": null,
            "min_height": null,
            "padding": null,
            "grid_auto_rows": null,
            "grid_gap": null,
            "max_width": null,
            "order": null,
            "_view_module_version": "1.2.0",
            "grid_template_areas": null,
            "object_position": null,
            "object_fit": null,
            "grid_auto_columns": null,
            "margin": null,
            "display": null,
            "left": null
          }
        },
        "866b0213f8fb4caab104e0e3f95a0a5b": {
          "model_module": "@jupyter-widgets/controls",
          "model_name": "FloatProgressModel",
          "state": {
            "_view_name": "ProgressView",
            "style": "IPY_MODEL_1efaa60c9b7d473ca591a6d11bf6edeb",
            "_dom_classes": [],
            "description": "Downloading: 100%",
            "_model_name": "FloatProgressModel",
            "bar_style": "success",
            "max": 497810400,
            "_view_module": "@jupyter-widgets/controls",
            "_model_module_version": "1.5.0",
            "value": 497810400,
            "_view_count": null,
            "_view_module_version": "1.5.0",
            "orientation": "horizontal",
            "min": 0,
            "description_tooltip": null,
            "_model_module": "@jupyter-widgets/controls",
            "layout": "IPY_MODEL_513ab7962c0043108a9b50886458e2a6"
          }
        },
        "895641bdca3145cf88597d0123f348bf": {
          "model_module": "@jupyter-widgets/controls",
          "model_name": "HTMLModel",
          "state": {
            "_view_name": "HTMLView",
            "style": "IPY_MODEL_4618838c096c494eb520023790c10ad8",
            "_dom_classes": [],
            "description": "",
            "_model_name": "HTMLModel",
            "placeholder": "​",
            "_view_module": "@jupyter-widgets/controls",
            "_model_module_version": "1.5.0",
            "value": " 498M/498M [00:13&lt;00:00, 38.2MB/s]",
            "_view_count": null,
            "_view_module_version": "1.5.0",
            "description_tooltip": null,
            "_model_module": "@jupyter-widgets/controls",
            "layout": "IPY_MODEL_02e30e3aaa1c4ff88a661f749dc693a4"
          }
        },
        "1efaa60c9b7d473ca591a6d11bf6edeb": {
          "model_module": "@jupyter-widgets/controls",
          "model_name": "ProgressStyleModel",
          "state": {
            "_view_name": "StyleView",
            "_model_name": "ProgressStyleModel",
            "description_width": "initial",
            "_view_module": "@jupyter-widgets/base",
            "_model_module_version": "1.5.0",
            "_view_count": null,
            "_view_module_version": "1.2.0",
            "bar_color": null,
            "_model_module": "@jupyter-widgets/controls"
          }
        },
        "513ab7962c0043108a9b50886458e2a6": {
          "model_module": "@jupyter-widgets/base",
          "model_name": "LayoutModel",
          "state": {
            "_view_name": "LayoutView",
            "grid_template_rows": null,
            "right": null,
            "justify_content": null,
            "_view_module": "@jupyter-widgets/base",
            "overflow": null,
            "_model_module_version": "1.2.0",
            "_view_count": null,
            "flex_flow": null,
            "width": null,
            "min_width": null,
            "border": null,
            "align_items": null,
            "bottom": null,
            "_model_module": "@jupyter-widgets/base",
            "top": null,
            "grid_column": null,
            "overflow_y": null,
            "overflow_x": null,
            "grid_auto_flow": null,
            "grid_area": null,
            "grid_template_columns": null,
            "flex": null,
            "_model_name": "LayoutModel",
            "justify_items": null,
            "grid_row": null,
            "max_height": null,
            "align_content": null,
            "visibility": null,
            "align_self": null,
            "height": null,
            "min_height": null,
            "padding": null,
            "grid_auto_rows": null,
            "grid_gap": null,
            "max_width": null,
            "order": null,
            "_view_module_version": "1.2.0",
            "grid_template_areas": null,
            "object_position": null,
            "object_fit": null,
            "grid_auto_columns": null,
            "margin": null,
            "display": null,
            "left": null
          }
        },
        "4618838c096c494eb520023790c10ad8": {
          "model_module": "@jupyter-widgets/controls",
          "model_name": "DescriptionStyleModel",
          "state": {
            "_view_name": "StyleView",
            "_model_name": "DescriptionStyleModel",
            "description_width": "",
            "_view_module": "@jupyter-widgets/base",
            "_model_module_version": "1.5.0",
            "_view_count": null,
            "_view_module_version": "1.2.0",
            "_model_module": "@jupyter-widgets/controls"
          }
        },
        "02e30e3aaa1c4ff88a661f749dc693a4": {
          "model_module": "@jupyter-widgets/base",
          "model_name": "LayoutModel",
          "state": {
            "_view_name": "LayoutView",
            "grid_template_rows": null,
            "right": null,
            "justify_content": null,
            "_view_module": "@jupyter-widgets/base",
            "overflow": null,
            "_model_module_version": "1.2.0",
            "_view_count": null,
            "flex_flow": null,
            "width": null,
            "min_width": null,
            "border": null,
            "align_items": null,
            "bottom": null,
            "_model_module": "@jupyter-widgets/base",
            "top": null,
            "grid_column": null,
            "overflow_y": null,
            "overflow_x": null,
            "grid_auto_flow": null,
            "grid_area": null,
            "grid_template_columns": null,
            "flex": null,
            "_model_name": "LayoutModel",
            "justify_items": null,
            "grid_row": null,
            "max_height": null,
            "align_content": null,
            "visibility": null,
            "align_self": null,
            "height": null,
            "min_height": null,
            "padding": null,
            "grid_auto_rows": null,
            "grid_gap": null,
            "max_width": null,
            "order": null,
            "_view_module_version": "1.2.0",
            "grid_template_areas": null,
            "object_position": null,
            "object_fit": null,
            "grid_auto_columns": null,
            "margin": null,
            "display": null,
            "left": null
          }
        }
      }
    },
    "accelerator": "GPU"
  },
  "cells": [
    {
      "cell_type": "markdown",
      "metadata": {
        "id": "view-in-github",
        "colab_type": "text"
      },
      "source": [
        "<a href=\"https://colab.research.google.com/github/celine-setyawan/Data-Science/blob/master/scenario3/IndoNLU-IndoBERT-base-p2/pdf/split1.ipynb\" target=\"_parent\"><img src=\"https://colab.research.google.com/assets/colab-badge.svg\" alt=\"Open In Colab\"/></a>"
      ]
    },
    {
      "cell_type": "markdown",
      "metadata": {
        "id": "BKIJ20o2qsxA"
      },
      "source": [
        "# **Libraries**"
      ]
    },
    {
      "cell_type": "code",
      "metadata": {
        "colab": {
          "base_uri": "https://localhost:8080/"
        },
        "id": "zNML-0ijMRre",
        "outputId": "3a3ed594-4ca1-433d-8394-71b7c302e638"
      },
      "source": [
        "from google.colab import drive\n",
        "drive.mount('/content/drive')\n",
        "\n",
        "PROJECT_ROOT = 'drive/My Drive/KULIAH PACIL/TERM 8/SKRIPSI/Resource Riset Chrysant Celine Setyawan/'\n",
        "SC3_PATH = PROJECT_ROOT + 'dataset/scenario3/'\n",
        "SC2_PATH = PROJECT_ROOT + 'dataset/scenario2/'\n",
        "SC1_PATH = PROJECT_ROOT + 'dataset/scenario1/'"
      ],
      "execution_count": 1,
      "outputs": [
        {
          "output_type": "stream",
          "text": [
            "Mounted at /content/drive\n"
          ],
          "name": "stdout"
        }
      ]
    },
    {
      "cell_type": "code",
      "metadata": {
        "id": "33lEGK7hhEOx",
        "colab": {
          "base_uri": "https://localhost:8080/"
        },
        "outputId": "7e108faf-3bdd-4f16-ed54-e9bfebe5416f"
      },
      "source": [
        "!cp 'drive/My Drive/KULIAH PACIL/TERM 8/SKRIPSI/Resource Riset Chrysant Celine Setyawan/Code/indonlu_helper.py' .\n",
        "!pip install --upgrade transformers\n",
        "!pip install ipython-autotime\n",
        "%load_ext autotime\n",
        "\n",
        "import os, sys\n",
        "import pandas as pd\n",
        "import indonlu_helper as ih\n",
        "\n",
        "import torch\n",
        "torch.cuda.empty_cache()\n",
        "import torch.nn.functional as F\n",
        "\n",
        "from torch import optim\n",
        "from torch.utils.data import Dataset, DataLoader\n",
        "from tqdm import tqdm\n",
        "from transformers import BertForSequenceClassification, BertConfig, BertTokenizer"
      ],
      "execution_count": 2,
      "outputs": [
        {
          "output_type": "stream",
          "text": [
            "Collecting transformers\n",
            "\u001b[?25l  Downloading https://files.pythonhosted.org/packages/d8/b2/57495b5309f09fa501866e225c84532d1fd89536ea62406b2181933fb418/transformers-4.5.1-py3-none-any.whl (2.1MB)\n",
            "\u001b[K     |████████████████████████████████| 2.1MB 18.1MB/s \n",
            "\u001b[?25hCollecting sacremoses\n",
            "\u001b[?25l  Downloading https://files.pythonhosted.org/packages/75/ee/67241dc87f266093c533a2d4d3d69438e57d7a90abb216fa076e7d475d4a/sacremoses-0.0.45-py3-none-any.whl (895kB)\n",
            "\u001b[K     |████████████████████████████████| 901kB 51.4MB/s \n",
            "\u001b[?25hRequirement already satisfied, skipping upgrade: requests in /usr/local/lib/python3.7/dist-packages (from transformers) (2.23.0)\n",
            "Requirement already satisfied, skipping upgrade: numpy>=1.17 in /usr/local/lib/python3.7/dist-packages (from transformers) (1.19.5)\n",
            "Requirement already satisfied, skipping upgrade: packaging in /usr/local/lib/python3.7/dist-packages (from transformers) (20.9)\n",
            "Collecting tokenizers<0.11,>=0.10.1\n",
            "\u001b[?25l  Downloading https://files.pythonhosted.org/packages/ae/04/5b870f26a858552025a62f1649c20d29d2672c02ff3c3fb4c688ca46467a/tokenizers-0.10.2-cp37-cp37m-manylinux2010_x86_64.whl (3.3MB)\n",
            "\u001b[K     |████████████████████████████████| 3.3MB 34.1MB/s \n",
            "\u001b[?25hRequirement already satisfied, skipping upgrade: tqdm>=4.27 in /usr/local/lib/python3.7/dist-packages (from transformers) (4.41.1)\n",
            "Requirement already satisfied, skipping upgrade: regex!=2019.12.17 in /usr/local/lib/python3.7/dist-packages (from transformers) (2019.12.20)\n",
            "Requirement already satisfied, skipping upgrade: importlib-metadata; python_version < \"3.8\" in /usr/local/lib/python3.7/dist-packages (from transformers) (3.10.1)\n",
            "Requirement already satisfied, skipping upgrade: filelock in /usr/local/lib/python3.7/dist-packages (from transformers) (3.0.12)\n",
            "Requirement already satisfied, skipping upgrade: joblib in /usr/local/lib/python3.7/dist-packages (from sacremoses->transformers) (1.0.1)\n",
            "Requirement already satisfied, skipping upgrade: six in /usr/local/lib/python3.7/dist-packages (from sacremoses->transformers) (1.15.0)\n",
            "Requirement already satisfied, skipping upgrade: click in /usr/local/lib/python3.7/dist-packages (from sacremoses->transformers) (7.1.2)\n",
            "Requirement already satisfied, skipping upgrade: certifi>=2017.4.17 in /usr/local/lib/python3.7/dist-packages (from requests->transformers) (2020.12.5)\n",
            "Requirement already satisfied, skipping upgrade: urllib3!=1.25.0,!=1.25.1,<1.26,>=1.21.1 in /usr/local/lib/python3.7/dist-packages (from requests->transformers) (1.24.3)\n",
            "Requirement already satisfied, skipping upgrade: idna<3,>=2.5 in /usr/local/lib/python3.7/dist-packages (from requests->transformers) (2.10)\n",
            "Requirement already satisfied, skipping upgrade: chardet<4,>=3.0.2 in /usr/local/lib/python3.7/dist-packages (from requests->transformers) (3.0.4)\n",
            "Requirement already satisfied, skipping upgrade: pyparsing>=2.0.2 in /usr/local/lib/python3.7/dist-packages (from packaging->transformers) (2.4.7)\n",
            "Requirement already satisfied, skipping upgrade: typing-extensions>=3.6.4; python_version < \"3.8\" in /usr/local/lib/python3.7/dist-packages (from importlib-metadata; python_version < \"3.8\"->transformers) (3.7.4.3)\n",
            "Requirement already satisfied, skipping upgrade: zipp>=0.5 in /usr/local/lib/python3.7/dist-packages (from importlib-metadata; python_version < \"3.8\"->transformers) (3.4.1)\n",
            "Installing collected packages: sacremoses, tokenizers, transformers\n",
            "Successfully installed sacremoses-0.0.45 tokenizers-0.10.2 transformers-4.5.1\n",
            "Collecting ipython-autotime\n",
            "  Downloading https://files.pythonhosted.org/packages/b4/c9/b413a24f759641bc27ef98c144b590023c8038dfb8a3f09e713e9dff12c1/ipython_autotime-0.3.1-py2.py3-none-any.whl\n",
            "Requirement already satisfied: ipython in /usr/local/lib/python3.7/dist-packages (from ipython-autotime) (5.5.0)\n",
            "Requirement already satisfied: simplegeneric>0.8 in /usr/local/lib/python3.7/dist-packages (from ipython->ipython-autotime) (0.8.1)\n",
            "Requirement already satisfied: setuptools>=18.5 in /usr/local/lib/python3.7/dist-packages (from ipython->ipython-autotime) (56.0.0)\n",
            "Requirement already satisfied: pickleshare in /usr/local/lib/python3.7/dist-packages (from ipython->ipython-autotime) (0.7.5)\n",
            "Requirement already satisfied: traitlets>=4.2 in /usr/local/lib/python3.7/dist-packages (from ipython->ipython-autotime) (5.0.5)\n",
            "Requirement already satisfied: decorator in /usr/local/lib/python3.7/dist-packages (from ipython->ipython-autotime) (4.4.2)\n",
            "Requirement already satisfied: prompt-toolkit<2.0.0,>=1.0.4 in /usr/local/lib/python3.7/dist-packages (from ipython->ipython-autotime) (1.0.18)\n",
            "Requirement already satisfied: pygments in /usr/local/lib/python3.7/dist-packages (from ipython->ipython-autotime) (2.6.1)\n",
            "Requirement already satisfied: pexpect; sys_platform != \"win32\" in /usr/local/lib/python3.7/dist-packages (from ipython->ipython-autotime) (4.8.0)\n",
            "Requirement already satisfied: ipython-genutils in /usr/local/lib/python3.7/dist-packages (from traitlets>=4.2->ipython->ipython-autotime) (0.2.0)\n",
            "Requirement already satisfied: six>=1.9.0 in /usr/local/lib/python3.7/dist-packages (from prompt-toolkit<2.0.0,>=1.0.4->ipython->ipython-autotime) (1.15.0)\n",
            "Requirement already satisfied: wcwidth in /usr/local/lib/python3.7/dist-packages (from prompt-toolkit<2.0.0,>=1.0.4->ipython->ipython-autotime) (0.2.5)\n",
            "Requirement already satisfied: ptyprocess>=0.5 in /usr/local/lib/python3.7/dist-packages (from pexpect; sys_platform != \"win32\"->ipython->ipython-autotime) (0.7.0)\n",
            "Installing collected packages: ipython-autotime\n",
            "Successfully installed ipython-autotime-0.3.1\n",
            "time: 4.29 s (started: 2021-05-06 20:19:48 +00:00)\n"
          ],
          "name": "stdout"
        }
      ]
    },
    {
      "cell_type": "code",
      "metadata": {
        "id": "Z3UzrdhMbD2n",
        "colab": {
          "base_uri": "https://localhost:8080/"
        },
        "outputId": "8cab8cdf-71cd-4497-b030-c974490c6b01"
      },
      "source": [
        "# To check if GPU is running or not\n",
        "!nvidia-smi\n",
        "!nvcc --version"
      ],
      "execution_count": 3,
      "outputs": [
        {
          "output_type": "stream",
          "text": [
            "Thu May  6 20:19:52 2021       \n",
            "+-----------------------------------------------------------------------------+\n",
            "| NVIDIA-SMI 465.19.01    Driver Version: 460.32.03    CUDA Version: 11.2     |\n",
            "|-------------------------------+----------------------+----------------------+\n",
            "| GPU  Name        Persistence-M| Bus-Id        Disp.A | Volatile Uncorr. ECC |\n",
            "| Fan  Temp  Perf  Pwr:Usage/Cap|         Memory-Usage | GPU-Util  Compute M. |\n",
            "|                               |                      |               MIG M. |\n",
            "|===============================+======================+======================|\n",
            "|   0  Tesla T4            Off  | 00000000:00:04.0 Off |                    0 |\n",
            "| N/A   38C    P8    10W /  70W |      0MiB / 15109MiB |      0%      Default |\n",
            "|                               |                      |                  N/A |\n",
            "+-------------------------------+----------------------+----------------------+\n",
            "                                                                               \n",
            "+-----------------------------------------------------------------------------+\n",
            "| Processes:                                                                  |\n",
            "|  GPU   GI   CI        PID   Type   Process name                  GPU Memory |\n",
            "|        ID   ID                                                   Usage      |\n",
            "|=============================================================================|\n",
            "|  No running processes found                                                 |\n",
            "+-----------------------------------------------------------------------------+\n",
            "nvcc: NVIDIA (R) Cuda compiler driver\n",
            "Copyright (c) 2005-2020 NVIDIA Corporation\n",
            "Built on Wed_Jul_22_19:09:09_PDT_2020\n",
            "Cuda compilation tools, release 11.0, V11.0.221\n",
            "Build cuda_11.0_bu.TC445_37.28845127_0\n",
            "time: 236 ms (started: 2021-05-06 20:19:52 +00:00)\n"
          ],
          "name": "stdout"
        }
      ]
    },
    {
      "cell_type": "code",
      "metadata": {
        "id": "Dm1DfFi9eTb-",
        "colab": {
          "base_uri": "https://localhost:8080/"
        },
        "outputId": "4e2fdde5-e328-4616-8d65-d263d33b4eed"
      },
      "source": [
        "# torch.cuda.memory_summary(device=None, abbreviated=False)"
      ],
      "execution_count": 4,
      "outputs": [
        {
          "output_type": "stream",
          "text": [
            "time: 890 µs (started: 2021-05-06 20:19:52 +00:00)\n"
          ],
          "name": "stdout"
        }
      ]
    },
    {
      "cell_type": "code",
      "metadata": {
        "id": "zq8rqDPNP1zl",
        "colab": {
          "base_uri": "https://localhost:8080/"
        },
        "outputId": "93253640-3597-4ed4-98e6-557816cc37f2"
      },
      "source": [
        "!git clone https://github.com/indobenchmark/indonlu.git"
      ],
      "execution_count": 5,
      "outputs": [
        {
          "output_type": "stream",
          "text": [
            "Cloning into 'indonlu'...\n",
            "remote: Enumerating objects: 417, done.\u001b[K\n",
            "remote: Counting objects: 100% (23/23), done.\u001b[K\n",
            "remote: Compressing objects: 100% (19/19), done.\u001b[K\n",
            "remote: Total 417 (delta 7), reused 12 (delta 4), pack-reused 394\u001b[K\n",
            "Receiving objects: 100% (417/417), 4.82 MiB | 22.55 MiB/s, done.\n",
            "Resolving deltas: 100% (202/202), done.\n",
            "time: 1.12 s (started: 2021-05-06 20:19:52 +00:00)\n"
          ],
          "name": "stdout"
        }
      ]
    },
    {
      "cell_type": "code",
      "metadata": {
        "id": "QMrN5_sGWly4",
        "colab": {
          "base_uri": "https://localhost:8080/"
        },
        "outputId": "8f76737e-c006-4fbf-9ea4-fdce774463aa"
      },
      "source": [
        "os.getcwd()\n",
        "%ls"
      ],
      "execution_count": 6,
      "outputs": [
        {
          "output_type": "stream",
          "text": [
            "\u001b[0m\u001b[01;34mdrive\u001b[0m/  \u001b[01;34mindonlu\u001b[0m/  indonlu_helper.py  \u001b[01;34m__pycache__\u001b[0m/  \u001b[01;34msample_data\u001b[0m/\n",
            "time: 120 ms (started: 2021-05-06 20:19:54 +00:00)\n"
          ],
          "name": "stdout"
        }
      ]
    },
    {
      "cell_type": "code",
      "metadata": {
        "id": "ZAZwqmeHWyym",
        "colab": {
          "base_uri": "https://localhost:8080/"
        },
        "outputId": "a5d1e244-259f-41a3-f0ea-b2054fc2f9ce"
      },
      "source": [
        "%cd /content/indonlu/\n",
        "%ls"
      ],
      "execution_count": 7,
      "outputs": [
        {
          "output_type": "stream",
          "text": [
            "/content/indonlu\n",
            "CODE_OF_CONDUCT.md    \u001b[0m\u001b[01;34mexamples\u001b[0m/  predict.py    requirements.txt      \u001b[01;34mutils\u001b[0m/\n",
            "CONTRIBUTING.md       LICENSE    predict.sh    \u001b[01;32mrun_all_tasks.sh\u001b[0m*\n",
            "\u001b[01;34mdataset\u001b[0m/              main.py    README.id.md  \u001b[01;32mrun_single_task.sh\u001b[0m*\n",
            "\u001b[01;34mdata_utils_notebook\u001b[0m/  \u001b[01;34mmodules\u001b[0m/   README.md     \u001b[01;34msubmission_examples\u001b[0m/\n",
            "time: 123 ms (started: 2021-05-06 20:19:54 +00:00)\n"
          ],
          "name": "stdout"
        }
      ]
    },
    {
      "cell_type": "code",
      "metadata": {
        "id": "QFd5V8zRoS5y",
        "colab": {
          "base_uri": "https://localhost:8080/"
        },
        "outputId": "1bc24028-7f6e-4371-d230-9c0567e90e69"
      },
      "source": [
        "from utils.forward_fn import forward_sequence_classification"
      ],
      "execution_count": 8,
      "outputs": [
        {
          "output_type": "stream",
          "text": [
            "time: 6.88 ms (started: 2021-05-06 20:19:54 +00:00)\n"
          ],
          "name": "stdout"
        }
      ]
    },
    {
      "cell_type": "markdown",
      "metadata": {
        "id": "5vSbLsUVQj1g"
      },
      "source": [
        "# **Settings**"
      ]
    },
    {
      "cell_type": "code",
      "metadata": {
        "id": "4I-oUteGZa5w",
        "colab": {
          "base_uri": "https://localhost:8080/"
        },
        "outputId": "ec021ff2-4258-4a1e-d645-1800fe62c28b"
      },
      "source": [
        "# Set random seed for reproducibility  \n",
        "ih.set_seed(42)"
      ],
      "execution_count": 9,
      "outputs": [
        {
          "output_type": "stream",
          "text": [
            "time: 5.58 ms (started: 2021-05-06 20:19:54 +00:00)\n"
          ],
          "name": "stdout"
        }
      ]
    },
    {
      "cell_type": "code",
      "metadata": {
        "id": "0g3hBoXoQmgy",
        "colab": {
          "base_uri": "https://localhost:8080/"
        },
        "outputId": "726ef5da-5d18-424a-9691-305dbd13a1d6"
      },
      "source": [
        "scenario = 3\n",
        "split = 1\n",
        "model_dir = SC3_PATH + 'model/indonlu-indobert-base-p2/'\n",
        "\n",
        "pretrained_model = 'indobenchmark/indobert-base-p2'\n",
        "batch_size = 16\n",
        "n_epochs = 25\n",
        "learning_rate = 4e-5\n",
        "early_stop = 12\n",
        "max_norm = 10\n",
        "valid_criterion = 'F1'\n",
        "metrics = ih.porn_classification_metrics\n",
        "\n",
        "# Step size and gamma will be used only for fine-tuning\n",
        "# step_size = 1\n",
        "# gamma = 0.9"
      ],
      "execution_count": 10,
      "outputs": [
        {
          "output_type": "stream",
          "text": [
            "time: 3.29 ms (started: 2021-05-06 20:19:54 +00:00)\n"
          ],
          "name": "stdout"
        }
      ]
    },
    {
      "cell_type": "markdown",
      "metadata": {
        "id": "I2BHY0jka_Aa"
      },
      "source": [
        "# **Prepare Data**"
      ]
    },
    {
      "cell_type": "code",
      "metadata": {
        "id": "2ruFkjhcqXqp",
        "colab": {
          "base_uri": "https://localhost:8080/"
        },
        "outputId": "41b06668-b341-4486-9a98-dcc8465e3a2b"
      },
      "source": [
        "%cd ..\n",
        "%ls"
      ],
      "execution_count": 11,
      "outputs": [
        {
          "output_type": "stream",
          "text": [
            "/content\n",
            "\u001b[0m\u001b[01;34mdrive\u001b[0m/  \u001b[01;34mindonlu\u001b[0m/  indonlu_helper.py  \u001b[01;34m__pycache__\u001b[0m/  \u001b[01;34msample_data\u001b[0m/\n",
            "time: 117 ms (started: 2021-05-06 20:19:54 +00:00)\n"
          ],
          "name": "stdout"
        }
      ]
    },
    {
      "cell_type": "code",
      "metadata": {
        "id": "sAR8wkh9eQ9U",
        "colab": {
          "base_uri": "https://localhost:8080/"
        },
        "outputId": "53fb46d7-5ec1-40a3-b589-26e29c265aea"
      },
      "source": [
        "train_dataset_path = SC3_PATH + f'train_split-{split}.pkl'\n",
        "valid_dataset_path = SC3_PATH + f'val_split-{split}.pkl'"
      ],
      "execution_count": 12,
      "outputs": [
        {
          "output_type": "stream",
          "text": [
            "time: 1.07 ms (started: 2021-05-06 20:19:54 +00:00)\n"
          ],
          "name": "stdout"
        }
      ]
    },
    {
      "cell_type": "markdown",
      "metadata": {
        "id": "PlJPmQxUwqzl"
      },
      "source": [
        "* `batch_size` defines the number of data we will take per batch.\n",
        "* `num_workers` defines the number of workers we want to use to fetch the data in parallel.\n",
        "* `shuffle` defines whether we want to take shuffle batch data or just fetch it in sequential order.\n",
        "\n",
        "The explanation are from https://indobenchmark.github.io/tutorials/pytorch/deep%20learning/nlp/2020/10/18/basic-pytorch-en.html#background."
      ]
    },
    {
      "cell_type": "code",
      "metadata": {
        "id": "KinyqN6Pegff",
        "colab": {
          "base_uri": "https://localhost:8080/",
          "height": 238,
          "referenced_widgets": [
            "b136d62d354649bab8a3cda50185d0fa",
            "bb75a37ddcec4b27b424396ee5b89081",
            "29f8a4339bcf455c8b321a9ece9b92bb",
            "5a730f0ff6f24b9797c7e6aee42b3455",
            "5d357619c344410197e25dcd45b1db4f",
            "02da03dcde494932b16af981f7e60c95",
            "b1fd566f3ec345bc8cc9f2a2740f3e0c",
            "af5a407b492f4cb1bd9d5c5c4f910dd8",
            "7958632833174859b997b6530102de25",
            "c378dffd32f14bfcb38092ec3fde3a0b",
            "7ce56119da5448e6a97fe1f80525d8e2",
            "6f8bc1b0924a4a21ac4f2799167f4042",
            "450fcf2454f243b297e50850b992f83e",
            "855ba67b53224e02b459a3d909b5223f",
            "975d80d69a8b4456840c6353d9fc7f83",
            "90091782421645528fa11988371a86c6",
            "4728947d72e348799b731037acc4dba7",
            "a4261ddffcfc452c8e8d6254cec0f9c3",
            "eda24cd3c3e143e99ed0ab7af1714263",
            "83a7213fb8924f52addbcf8c6971072d",
            "fddddf11d8804f088c2bdacb13024975",
            "c5de04ecbe0e4803adbbb70b245158a6",
            "6b3faebc4b634f5abff604fa0fe8f836",
            "3173058300c84306a38e15ab1904d834"
          ]
        },
        "outputId": "e2f6a11a-def5-4429-8c42-f311f100c861"
      },
      "source": [
        "# Load Pretrained Tokenizer\n",
        "tokenizer = BertTokenizer.from_pretrained(pretrained_model)\n",
        "\n",
        "# Process the Data in the Right Format to be Fed into the Model\n",
        "train_dataset = ih.PornClassificationDataset(train_dataset_path, tokenizer, scenario=scenario, lowercase=True)\n",
        "valid_dataset = ih.PornClassificationDataset(valid_dataset_path, tokenizer, scenario=scenario, lowercase=True)\n",
        "\n",
        "train_loader = ih.PornClassificationDataLoader(dataset=train_dataset, max_seq_len=512, batch_size=batch_size, num_workers=16, shuffle=True)\n",
        "valid_loader = ih.PornClassificationDataLoader(dataset=valid_dataset, max_seq_len=512, batch_size=batch_size, num_workers=16, shuffle=False)"
      ],
      "execution_count": 13,
      "outputs": [
        {
          "output_type": "display_data",
          "data": {
            "application/vnd.jupyter.widget-view+json": {
              "model_id": "b136d62d354649bab8a3cda50185d0fa",
              "version_minor": 0,
              "version_major": 2
            },
            "text/plain": [
              "HBox(children=(FloatProgress(value=0.0, description='Downloading', max=229167.0, style=ProgressStyle(descripti…"
            ]
          },
          "metadata": {
            "tags": []
          }
        },
        {
          "output_type": "stream",
          "text": [
            "\n"
          ],
          "name": "stdout"
        },
        {
          "output_type": "display_data",
          "data": {
            "application/vnd.jupyter.widget-view+json": {
              "model_id": "7958632833174859b997b6530102de25",
              "version_minor": 0,
              "version_major": 2
            },
            "text/plain": [
              "HBox(children=(FloatProgress(value=0.0, description='Downloading', max=112.0, style=ProgressStyle(description_…"
            ]
          },
          "metadata": {
            "tags": []
          }
        },
        {
          "output_type": "stream",
          "text": [
            "\n"
          ],
          "name": "stdout"
        },
        {
          "output_type": "display_data",
          "data": {
            "application/vnd.jupyter.widget-view+json": {
              "model_id": "4728947d72e348799b731037acc4dba7",
              "version_minor": 0,
              "version_major": 2
            },
            "text/plain": [
              "HBox(children=(FloatProgress(value=0.0, description='Downloading', max=2.0, style=ProgressStyle(description_wi…"
            ]
          },
          "metadata": {
            "tags": []
          }
        },
        {
          "output_type": "stream",
          "text": [
            "\n",
            "time: 1.48 s (started: 2021-05-06 20:19:54 +00:00)\n"
          ],
          "name": "stdout"
        },
        {
          "output_type": "stream",
          "text": [
            "/usr/local/lib/python3.7/dist-packages/torch/utils/data/dataloader.py:477: UserWarning: This DataLoader will create 16 worker processes in total. Our suggested max number of worker in current system is 2, which is smaller than what this DataLoader is going to create. Please be aware that excessive worker creation might get DataLoader running slow or even freeze, lower the worker number to avoid potential slowness/freeze if necessary.\n",
            "  cpuset_checked))\n"
          ],
          "name": "stderr"
        }
      ]
    },
    {
      "cell_type": "code",
      "metadata": {
        "id": "8-y2fSIftwx4",
        "colab": {
          "base_uri": "https://localhost:8080/"
        },
        "outputId": "cedca318-8df5-46ad-8fd1-874a6eccea67"
      },
      "source": [
        "l2i, i2l = train_dataset.label2index, train_dataset.index2label\n",
        "print(l2i)\n",
        "print(i2l)"
      ],
      "execution_count": 14,
      "outputs": [
        {
          "output_type": "stream",
          "text": [
            "{'bukan_konten_porno': 0, 'konten_porno': 1}\n",
            "{0: 'bukan_konten_porno', 1: 'konten_porno'}\n",
            "time: 2.3 ms (started: 2021-05-06 20:19:56 +00:00)\n"
          ],
          "name": "stdout"
        }
      ]
    },
    {
      "cell_type": "code",
      "metadata": {
        "id": "RUh2w_qEu-z8",
        "colab": {
          "base_uri": "https://localhost:8080/",
          "height": 419
        },
        "outputId": "2353f602-ba8c-43d1-b5b4-6338b129b371"
      },
      "source": [
        "# train_dataset.tokenizer.vocab\n",
        "train_dataset.data"
      ],
      "execution_count": 15,
      "outputs": [
        {
          "output_type": "execute_result",
          "data": {
            "text/html": [
              "<div>\n",
              "<style scoped>\n",
              "    .dataframe tbody tr th:only-of-type {\n",
              "        vertical-align: middle;\n",
              "    }\n",
              "\n",
              "    .dataframe tbody tr th {\n",
              "        vertical-align: top;\n",
              "    }\n",
              "\n",
              "    .dataframe thead th {\n",
              "        text-align: right;\n",
              "    }\n",
              "</style>\n",
              "<table border=\"1\" class=\"dataframe\">\n",
              "  <thead>\n",
              "    <tr style=\"text-align: right;\">\n",
              "      <th></th>\n",
              "      <th>index</th>\n",
              "      <th>labels</th>\n",
              "      <th>text</th>\n",
              "    </tr>\n",
              "  </thead>\n",
              "  <tbody>\n",
              "    <tr>\n",
              "      <th>0</th>\n",
              "      <td>828</td>\n",
              "      <td>1</td>\n",
              "      <td>jadi ayam kampus raa</td>\n",
              "    </tr>\n",
              "    <tr>\n",
              "      <th>1</th>\n",
              "      <td>829</td>\n",
              "      <td>1</td>\n",
              "      <td>gada dia enggak boleh ngewe sembarangan pah</td>\n",
              "    </tr>\n",
              "    <tr>\n",
              "      <th>2</th>\n",
              "      <td>830</td>\n",
              "      <td>1</td>\n",
              "      <td>yah tidak bisa buka bokep dongg</td>\n",
              "    </tr>\n",
              "    <tr>\n",
              "      <th>3</th>\n",
              "      <td>831</td>\n",
              "      <td>1</td>\n",
              "      <td>bokep asik g</td>\n",
              "    </tr>\n",
              "    <tr>\n",
              "      <th>4</th>\n",
              "      <td>832</td>\n",
              "      <td>1</td>\n",
              "      <td>tanpa ekspresi tanpa ekspresi kamu di plot kan...</td>\n",
              "    </tr>\n",
              "    <tr>\n",
              "      <th>...</th>\n",
              "      <td>...</td>\n",
              "      <td>...</td>\n",
              "      <td>...</td>\n",
              "    </tr>\n",
              "    <tr>\n",
              "      <th>9265</th>\n",
              "      <td>10295</td>\n",
              "      <td>0</td>\n",
              "      <td>nesv herbal perapat vagina untuk kesehatan org...</td>\n",
              "    </tr>\n",
              "    <tr>\n",
              "      <th>9266</th>\n",
              "      <td>10296</td>\n",
              "      <td>0</td>\n",
              "      <td>pencegahan lainnya yang dapat dilakukan adalah...</td>\n",
              "    </tr>\n",
              "    <tr>\n",
              "      <th>9267</th>\n",
              "      <td>10297</td>\n",
              "      <td>0</td>\n",
              "      <td>kodrat jadi perempuan yang punya vagina tidak ...</td>\n",
              "    </tr>\n",
              "    <tr>\n",
              "      <th>9268</th>\n",
              "      <td>10298</td>\n",
              "      <td>0</td>\n",
              "      <td>teman paramedis bercerita gender yang orang ta...</td>\n",
              "    </tr>\n",
              "    <tr>\n",
              "      <th>9269</th>\n",
              "      <td>10299</td>\n",
              "      <td>0</td>\n",
              "      <td>lhaa waktu itu ada yang disembunyikan di vagin...</td>\n",
              "    </tr>\n",
              "  </tbody>\n",
              "</table>\n",
              "<p>9270 rows × 3 columns</p>\n",
              "</div>"
            ],
            "text/plain": [
              "      index  labels                                               text\n",
              "0       828       1                               jadi ayam kampus raa\n",
              "1       829       1        gada dia enggak boleh ngewe sembarangan pah\n",
              "2       830       1                    yah tidak bisa buka bokep dongg\n",
              "3       831       1                                       bokep asik g\n",
              "4       832       1  tanpa ekspresi tanpa ekspresi kamu di plot kan...\n",
              "...     ...     ...                                                ...\n",
              "9265  10295       0  nesv herbal perapat vagina untuk kesehatan org...\n",
              "9266  10296       0  pencegahan lainnya yang dapat dilakukan adalah...\n",
              "9267  10297       0  kodrat jadi perempuan yang punya vagina tidak ...\n",
              "9268  10298       0  teman paramedis bercerita gender yang orang ta...\n",
              "9269  10299       0  lhaa waktu itu ada yang disembunyikan di vagin...\n",
              "\n",
              "[9270 rows x 3 columns]"
            ]
          },
          "metadata": {
            "tags": []
          },
          "execution_count": 15
        },
        {
          "output_type": "stream",
          "text": [
            "time: 20.8 ms (started: 2021-05-06 20:19:56 +00:00)\n"
          ],
          "name": "stdout"
        }
      ]
    },
    {
      "cell_type": "markdown",
      "metadata": {
        "id": "rfkgd2MLpVBR"
      },
      "source": [
        "# **Load Model**"
      ]
    },
    {
      "cell_type": "code",
      "metadata": {
        "id": "siYiw3kSZQrW",
        "colab": {
          "base_uri": "https://localhost:8080/",
          "height": 189,
          "referenced_widgets": [
            "10029caaf93748af8e4a517ca2cc709d",
            "db539f762fdc495fa927bc2634daec75",
            "640fefd02a7f4f1286198498240e6f2a",
            "dcbbcf79b70e403ebd3db340603f31b4",
            "6094a1a9731c44e2b2a676bdaacf8c7b",
            "50d6e06a9b9e434a9c42b9ea33224ad7",
            "79768006cf7c45e1a881c8cca1f2d43f",
            "54b23e98a75d4a159c4feba688cbdfa9",
            "c3dd385dc6e84f1d9a6c4b4121711c23",
            "f5941ab39af64c4c8aceb043e64faf9b",
            "866b0213f8fb4caab104e0e3f95a0a5b",
            "895641bdca3145cf88597d0123f348bf",
            "1efaa60c9b7d473ca591a6d11bf6edeb",
            "513ab7962c0043108a9b50886458e2a6",
            "4618838c096c494eb520023790c10ad8",
            "02e30e3aaa1c4ff88a661f749dc693a4"
          ]
        },
        "outputId": "f6eb7e97-0648-43e2-dfa3-1406ad665f1c"
      },
      "source": [
        "# Configuration\n",
        "config = BertConfig.from_pretrained(pretrained_model)\n",
        "config._num_labels = train_dataset.num_labels\n",
        "config.id2label = i2l\n",
        "config.label2id = l2i\n",
        "\n",
        "# Instantiate model\n",
        "model = BertForSequenceClassification.from_pretrained(pretrained_model, config=config)\n",
        "model = model.cuda()\n",
        "optimizer = optim.Adam(model.parameters(), lr=learning_rate )"
      ],
      "execution_count": 16,
      "outputs": [
        {
          "output_type": "display_data",
          "data": {
            "application/vnd.jupyter.widget-view+json": {
              "model_id": "10029caaf93748af8e4a517ca2cc709d",
              "version_minor": 0,
              "version_major": 2
            },
            "text/plain": [
              "HBox(children=(FloatProgress(value=0.0, description='Downloading', max=1534.0, style=ProgressStyle(description…"
            ]
          },
          "metadata": {
            "tags": []
          }
        },
        {
          "output_type": "stream",
          "text": [
            "\n"
          ],
          "name": "stdout"
        },
        {
          "output_type": "display_data",
          "data": {
            "application/vnd.jupyter.widget-view+json": {
              "model_id": "c3dd385dc6e84f1d9a6c4b4121711c23",
              "version_minor": 0,
              "version_major": 2
            },
            "text/plain": [
              "HBox(children=(FloatProgress(value=0.0, description='Downloading', max=497810400.0, style=ProgressStyle(descri…"
            ]
          },
          "metadata": {
            "tags": []
          }
        },
        {
          "output_type": "stream",
          "text": [
            "\n"
          ],
          "name": "stdout"
        },
        {
          "output_type": "stream",
          "text": [
            "Some weights of BertForSequenceClassification were not initialized from the model checkpoint at indobenchmark/indobert-base-p2 and are newly initialized: ['classifier.weight', 'classifier.bias']\n",
            "You should probably TRAIN this model on a down-stream task to be able to use it for predictions and inference.\n"
          ],
          "name": "stderr"
        },
        {
          "output_type": "stream",
          "text": [
            "time: 24 s (started: 2021-05-06 20:19:56 +00:00)\n"
          ],
          "name": "stdout"
        }
      ]
    },
    {
      "cell_type": "code",
      "metadata": {
        "id": "_B_xCYCRZp4H",
        "colab": {
          "base_uri": "https://localhost:8080/"
        },
        "outputId": "4f181c9d-c281-4d0e-d3b7-101191494a97"
      },
      "source": [
        "ih.count_param(model)"
      ],
      "execution_count": 17,
      "outputs": [
        {
          "output_type": "execute_result",
          "data": {
            "text/plain": [
              "124442882"
            ]
          },
          "metadata": {
            "tags": []
          },
          "execution_count": 17
        },
        {
          "output_type": "stream",
          "text": [
            "time: 5.23 ms (started: 2021-05-06 20:20:20 +00:00)\n"
          ],
          "name": "stdout"
        }
      ]
    },
    {
      "cell_type": "code",
      "metadata": {
        "id": "NXiw61PngJGQ",
        "colab": {
          "base_uri": "https://localhost:8080/"
        },
        "outputId": "f93b3919-16b5-42f0-8760-57acf33eea68"
      },
      "source": [
        "config"
      ],
      "execution_count": 18,
      "outputs": [
        {
          "output_type": "execute_result",
          "data": {
            "text/plain": [
              "BertConfig {\n",
              "  \"_name_or_path\": \"indobenchmark/indobert-base-p2\",\n",
              "  \"_num_labels\": 2,\n",
              "  \"architectures\": [\n",
              "    \"BertModel\"\n",
              "  ],\n",
              "  \"attention_probs_dropout_prob\": 0.1,\n",
              "  \"directionality\": \"bidi\",\n",
              "  \"gradient_checkpointing\": false,\n",
              "  \"hidden_act\": \"gelu\",\n",
              "  \"hidden_dropout_prob\": 0.1,\n",
              "  \"hidden_size\": 768,\n",
              "  \"id2label\": {\n",
              "    \"0\": \"bukan_konten_porno\",\n",
              "    \"1\": \"konten_porno\"\n",
              "  },\n",
              "  \"initializer_range\": 0.02,\n",
              "  \"intermediate_size\": 3072,\n",
              "  \"label2id\": {\n",
              "    \"bukan_konten_porno\": 0,\n",
              "    \"konten_porno\": 1\n",
              "  },\n",
              "  \"layer_norm_eps\": 1e-12,\n",
              "  \"max_position_embeddings\": 512,\n",
              "  \"model_type\": \"bert\",\n",
              "  \"num_attention_heads\": 12,\n",
              "  \"num_hidden_layers\": 12,\n",
              "  \"output_past\": true,\n",
              "  \"pad_token_id\": 0,\n",
              "  \"pooler_fc_size\": 768,\n",
              "  \"pooler_num_attention_heads\": 12,\n",
              "  \"pooler_num_fc_layers\": 3,\n",
              "  \"pooler_size_per_head\": 128,\n",
              "  \"pooler_type\": \"first_token_transform\",\n",
              "  \"position_embedding_type\": \"absolute\",\n",
              "  \"transformers_version\": \"4.5.1\",\n",
              "  \"type_vocab_size\": 2,\n",
              "  \"use_cache\": true,\n",
              "  \"vocab_size\": 50000\n",
              "}"
            ]
          },
          "metadata": {
            "tags": []
          },
          "execution_count": 18
        },
        {
          "output_type": "stream",
          "text": [
            "time: 5.99 ms (started: 2021-05-06 20:20:20 +00:00)\n"
          ],
          "name": "stdout"
        }
      ]
    },
    {
      "cell_type": "code",
      "metadata": {
        "id": "Ue7ve-p7tAqZ",
        "colab": {
          "base_uri": "https://localhost:8080/"
        },
        "outputId": "766f3a29-7eac-45fb-e625-0e1ffefeb5cc"
      },
      "source": [
        "model"
      ],
      "execution_count": 19,
      "outputs": [
        {
          "output_type": "execute_result",
          "data": {
            "text/plain": [
              "BertForSequenceClassification(\n",
              "  (bert): BertModel(\n",
              "    (embeddings): BertEmbeddings(\n",
              "      (word_embeddings): Embedding(50000, 768, padding_idx=0)\n",
              "      (position_embeddings): Embedding(512, 768)\n",
              "      (token_type_embeddings): Embedding(2, 768)\n",
              "      (LayerNorm): LayerNorm((768,), eps=1e-12, elementwise_affine=True)\n",
              "      (dropout): Dropout(p=0.1, inplace=False)\n",
              "    )\n",
              "    (encoder): BertEncoder(\n",
              "      (layer): ModuleList(\n",
              "        (0): BertLayer(\n",
              "          (attention): BertAttention(\n",
              "            (self): BertSelfAttention(\n",
              "              (query): Linear(in_features=768, out_features=768, bias=True)\n",
              "              (key): Linear(in_features=768, out_features=768, bias=True)\n",
              "              (value): Linear(in_features=768, out_features=768, bias=True)\n",
              "              (dropout): Dropout(p=0.1, inplace=False)\n",
              "            )\n",
              "            (output): BertSelfOutput(\n",
              "              (dense): Linear(in_features=768, out_features=768, bias=True)\n",
              "              (LayerNorm): LayerNorm((768,), eps=1e-12, elementwise_affine=True)\n",
              "              (dropout): Dropout(p=0.1, inplace=False)\n",
              "            )\n",
              "          )\n",
              "          (intermediate): BertIntermediate(\n",
              "            (dense): Linear(in_features=768, out_features=3072, bias=True)\n",
              "          )\n",
              "          (output): BertOutput(\n",
              "            (dense): Linear(in_features=3072, out_features=768, bias=True)\n",
              "            (LayerNorm): LayerNorm((768,), eps=1e-12, elementwise_affine=True)\n",
              "            (dropout): Dropout(p=0.1, inplace=False)\n",
              "          )\n",
              "        )\n",
              "        (1): BertLayer(\n",
              "          (attention): BertAttention(\n",
              "            (self): BertSelfAttention(\n",
              "              (query): Linear(in_features=768, out_features=768, bias=True)\n",
              "              (key): Linear(in_features=768, out_features=768, bias=True)\n",
              "              (value): Linear(in_features=768, out_features=768, bias=True)\n",
              "              (dropout): Dropout(p=0.1, inplace=False)\n",
              "            )\n",
              "            (output): BertSelfOutput(\n",
              "              (dense): Linear(in_features=768, out_features=768, bias=True)\n",
              "              (LayerNorm): LayerNorm((768,), eps=1e-12, elementwise_affine=True)\n",
              "              (dropout): Dropout(p=0.1, inplace=False)\n",
              "            )\n",
              "          )\n",
              "          (intermediate): BertIntermediate(\n",
              "            (dense): Linear(in_features=768, out_features=3072, bias=True)\n",
              "          )\n",
              "          (output): BertOutput(\n",
              "            (dense): Linear(in_features=3072, out_features=768, bias=True)\n",
              "            (LayerNorm): LayerNorm((768,), eps=1e-12, elementwise_affine=True)\n",
              "            (dropout): Dropout(p=0.1, inplace=False)\n",
              "          )\n",
              "        )\n",
              "        (2): BertLayer(\n",
              "          (attention): BertAttention(\n",
              "            (self): BertSelfAttention(\n",
              "              (query): Linear(in_features=768, out_features=768, bias=True)\n",
              "              (key): Linear(in_features=768, out_features=768, bias=True)\n",
              "              (value): Linear(in_features=768, out_features=768, bias=True)\n",
              "              (dropout): Dropout(p=0.1, inplace=False)\n",
              "            )\n",
              "            (output): BertSelfOutput(\n",
              "              (dense): Linear(in_features=768, out_features=768, bias=True)\n",
              "              (LayerNorm): LayerNorm((768,), eps=1e-12, elementwise_affine=True)\n",
              "              (dropout): Dropout(p=0.1, inplace=False)\n",
              "            )\n",
              "          )\n",
              "          (intermediate): BertIntermediate(\n",
              "            (dense): Linear(in_features=768, out_features=3072, bias=True)\n",
              "          )\n",
              "          (output): BertOutput(\n",
              "            (dense): Linear(in_features=3072, out_features=768, bias=True)\n",
              "            (LayerNorm): LayerNorm((768,), eps=1e-12, elementwise_affine=True)\n",
              "            (dropout): Dropout(p=0.1, inplace=False)\n",
              "          )\n",
              "        )\n",
              "        (3): BertLayer(\n",
              "          (attention): BertAttention(\n",
              "            (self): BertSelfAttention(\n",
              "              (query): Linear(in_features=768, out_features=768, bias=True)\n",
              "              (key): Linear(in_features=768, out_features=768, bias=True)\n",
              "              (value): Linear(in_features=768, out_features=768, bias=True)\n",
              "              (dropout): Dropout(p=0.1, inplace=False)\n",
              "            )\n",
              "            (output): BertSelfOutput(\n",
              "              (dense): Linear(in_features=768, out_features=768, bias=True)\n",
              "              (LayerNorm): LayerNorm((768,), eps=1e-12, elementwise_affine=True)\n",
              "              (dropout): Dropout(p=0.1, inplace=False)\n",
              "            )\n",
              "          )\n",
              "          (intermediate): BertIntermediate(\n",
              "            (dense): Linear(in_features=768, out_features=3072, bias=True)\n",
              "          )\n",
              "          (output): BertOutput(\n",
              "            (dense): Linear(in_features=3072, out_features=768, bias=True)\n",
              "            (LayerNorm): LayerNorm((768,), eps=1e-12, elementwise_affine=True)\n",
              "            (dropout): Dropout(p=0.1, inplace=False)\n",
              "          )\n",
              "        )\n",
              "        (4): BertLayer(\n",
              "          (attention): BertAttention(\n",
              "            (self): BertSelfAttention(\n",
              "              (query): Linear(in_features=768, out_features=768, bias=True)\n",
              "              (key): Linear(in_features=768, out_features=768, bias=True)\n",
              "              (value): Linear(in_features=768, out_features=768, bias=True)\n",
              "              (dropout): Dropout(p=0.1, inplace=False)\n",
              "            )\n",
              "            (output): BertSelfOutput(\n",
              "              (dense): Linear(in_features=768, out_features=768, bias=True)\n",
              "              (LayerNorm): LayerNorm((768,), eps=1e-12, elementwise_affine=True)\n",
              "              (dropout): Dropout(p=0.1, inplace=False)\n",
              "            )\n",
              "          )\n",
              "          (intermediate): BertIntermediate(\n",
              "            (dense): Linear(in_features=768, out_features=3072, bias=True)\n",
              "          )\n",
              "          (output): BertOutput(\n",
              "            (dense): Linear(in_features=3072, out_features=768, bias=True)\n",
              "            (LayerNorm): LayerNorm((768,), eps=1e-12, elementwise_affine=True)\n",
              "            (dropout): Dropout(p=0.1, inplace=False)\n",
              "          )\n",
              "        )\n",
              "        (5): BertLayer(\n",
              "          (attention): BertAttention(\n",
              "            (self): BertSelfAttention(\n",
              "              (query): Linear(in_features=768, out_features=768, bias=True)\n",
              "              (key): Linear(in_features=768, out_features=768, bias=True)\n",
              "              (value): Linear(in_features=768, out_features=768, bias=True)\n",
              "              (dropout): Dropout(p=0.1, inplace=False)\n",
              "            )\n",
              "            (output): BertSelfOutput(\n",
              "              (dense): Linear(in_features=768, out_features=768, bias=True)\n",
              "              (LayerNorm): LayerNorm((768,), eps=1e-12, elementwise_affine=True)\n",
              "              (dropout): Dropout(p=0.1, inplace=False)\n",
              "            )\n",
              "          )\n",
              "          (intermediate): BertIntermediate(\n",
              "            (dense): Linear(in_features=768, out_features=3072, bias=True)\n",
              "          )\n",
              "          (output): BertOutput(\n",
              "            (dense): Linear(in_features=3072, out_features=768, bias=True)\n",
              "            (LayerNorm): LayerNorm((768,), eps=1e-12, elementwise_affine=True)\n",
              "            (dropout): Dropout(p=0.1, inplace=False)\n",
              "          )\n",
              "        )\n",
              "        (6): BertLayer(\n",
              "          (attention): BertAttention(\n",
              "            (self): BertSelfAttention(\n",
              "              (query): Linear(in_features=768, out_features=768, bias=True)\n",
              "              (key): Linear(in_features=768, out_features=768, bias=True)\n",
              "              (value): Linear(in_features=768, out_features=768, bias=True)\n",
              "              (dropout): Dropout(p=0.1, inplace=False)\n",
              "            )\n",
              "            (output): BertSelfOutput(\n",
              "              (dense): Linear(in_features=768, out_features=768, bias=True)\n",
              "              (LayerNorm): LayerNorm((768,), eps=1e-12, elementwise_affine=True)\n",
              "              (dropout): Dropout(p=0.1, inplace=False)\n",
              "            )\n",
              "          )\n",
              "          (intermediate): BertIntermediate(\n",
              "            (dense): Linear(in_features=768, out_features=3072, bias=True)\n",
              "          )\n",
              "          (output): BertOutput(\n",
              "            (dense): Linear(in_features=3072, out_features=768, bias=True)\n",
              "            (LayerNorm): LayerNorm((768,), eps=1e-12, elementwise_affine=True)\n",
              "            (dropout): Dropout(p=0.1, inplace=False)\n",
              "          )\n",
              "        )\n",
              "        (7): BertLayer(\n",
              "          (attention): BertAttention(\n",
              "            (self): BertSelfAttention(\n",
              "              (query): Linear(in_features=768, out_features=768, bias=True)\n",
              "              (key): Linear(in_features=768, out_features=768, bias=True)\n",
              "              (value): Linear(in_features=768, out_features=768, bias=True)\n",
              "              (dropout): Dropout(p=0.1, inplace=False)\n",
              "            )\n",
              "            (output): BertSelfOutput(\n",
              "              (dense): Linear(in_features=768, out_features=768, bias=True)\n",
              "              (LayerNorm): LayerNorm((768,), eps=1e-12, elementwise_affine=True)\n",
              "              (dropout): Dropout(p=0.1, inplace=False)\n",
              "            )\n",
              "          )\n",
              "          (intermediate): BertIntermediate(\n",
              "            (dense): Linear(in_features=768, out_features=3072, bias=True)\n",
              "          )\n",
              "          (output): BertOutput(\n",
              "            (dense): Linear(in_features=3072, out_features=768, bias=True)\n",
              "            (LayerNorm): LayerNorm((768,), eps=1e-12, elementwise_affine=True)\n",
              "            (dropout): Dropout(p=0.1, inplace=False)\n",
              "          )\n",
              "        )\n",
              "        (8): BertLayer(\n",
              "          (attention): BertAttention(\n",
              "            (self): BertSelfAttention(\n",
              "              (query): Linear(in_features=768, out_features=768, bias=True)\n",
              "              (key): Linear(in_features=768, out_features=768, bias=True)\n",
              "              (value): Linear(in_features=768, out_features=768, bias=True)\n",
              "              (dropout): Dropout(p=0.1, inplace=False)\n",
              "            )\n",
              "            (output): BertSelfOutput(\n",
              "              (dense): Linear(in_features=768, out_features=768, bias=True)\n",
              "              (LayerNorm): LayerNorm((768,), eps=1e-12, elementwise_affine=True)\n",
              "              (dropout): Dropout(p=0.1, inplace=False)\n",
              "            )\n",
              "          )\n",
              "          (intermediate): BertIntermediate(\n",
              "            (dense): Linear(in_features=768, out_features=3072, bias=True)\n",
              "          )\n",
              "          (output): BertOutput(\n",
              "            (dense): Linear(in_features=3072, out_features=768, bias=True)\n",
              "            (LayerNorm): LayerNorm((768,), eps=1e-12, elementwise_affine=True)\n",
              "            (dropout): Dropout(p=0.1, inplace=False)\n",
              "          )\n",
              "        )\n",
              "        (9): BertLayer(\n",
              "          (attention): BertAttention(\n",
              "            (self): BertSelfAttention(\n",
              "              (query): Linear(in_features=768, out_features=768, bias=True)\n",
              "              (key): Linear(in_features=768, out_features=768, bias=True)\n",
              "              (value): Linear(in_features=768, out_features=768, bias=True)\n",
              "              (dropout): Dropout(p=0.1, inplace=False)\n",
              "            )\n",
              "            (output): BertSelfOutput(\n",
              "              (dense): Linear(in_features=768, out_features=768, bias=True)\n",
              "              (LayerNorm): LayerNorm((768,), eps=1e-12, elementwise_affine=True)\n",
              "              (dropout): Dropout(p=0.1, inplace=False)\n",
              "            )\n",
              "          )\n",
              "          (intermediate): BertIntermediate(\n",
              "            (dense): Linear(in_features=768, out_features=3072, bias=True)\n",
              "          )\n",
              "          (output): BertOutput(\n",
              "            (dense): Linear(in_features=3072, out_features=768, bias=True)\n",
              "            (LayerNorm): LayerNorm((768,), eps=1e-12, elementwise_affine=True)\n",
              "            (dropout): Dropout(p=0.1, inplace=False)\n",
              "          )\n",
              "        )\n",
              "        (10): BertLayer(\n",
              "          (attention): BertAttention(\n",
              "            (self): BertSelfAttention(\n",
              "              (query): Linear(in_features=768, out_features=768, bias=True)\n",
              "              (key): Linear(in_features=768, out_features=768, bias=True)\n",
              "              (value): Linear(in_features=768, out_features=768, bias=True)\n",
              "              (dropout): Dropout(p=0.1, inplace=False)\n",
              "            )\n",
              "            (output): BertSelfOutput(\n",
              "              (dense): Linear(in_features=768, out_features=768, bias=True)\n",
              "              (LayerNorm): LayerNorm((768,), eps=1e-12, elementwise_affine=True)\n",
              "              (dropout): Dropout(p=0.1, inplace=False)\n",
              "            )\n",
              "          )\n",
              "          (intermediate): BertIntermediate(\n",
              "            (dense): Linear(in_features=768, out_features=3072, bias=True)\n",
              "          )\n",
              "          (output): BertOutput(\n",
              "            (dense): Linear(in_features=3072, out_features=768, bias=True)\n",
              "            (LayerNorm): LayerNorm((768,), eps=1e-12, elementwise_affine=True)\n",
              "            (dropout): Dropout(p=0.1, inplace=False)\n",
              "          )\n",
              "        )\n",
              "        (11): BertLayer(\n",
              "          (attention): BertAttention(\n",
              "            (self): BertSelfAttention(\n",
              "              (query): Linear(in_features=768, out_features=768, bias=True)\n",
              "              (key): Linear(in_features=768, out_features=768, bias=True)\n",
              "              (value): Linear(in_features=768, out_features=768, bias=True)\n",
              "              (dropout): Dropout(p=0.1, inplace=False)\n",
              "            )\n",
              "            (output): BertSelfOutput(\n",
              "              (dense): Linear(in_features=768, out_features=768, bias=True)\n",
              "              (LayerNorm): LayerNorm((768,), eps=1e-12, elementwise_affine=True)\n",
              "              (dropout): Dropout(p=0.1, inplace=False)\n",
              "            )\n",
              "          )\n",
              "          (intermediate): BertIntermediate(\n",
              "            (dense): Linear(in_features=768, out_features=3072, bias=True)\n",
              "          )\n",
              "          (output): BertOutput(\n",
              "            (dense): Linear(in_features=3072, out_features=768, bias=True)\n",
              "            (LayerNorm): LayerNorm((768,), eps=1e-12, elementwise_affine=True)\n",
              "            (dropout): Dropout(p=0.1, inplace=False)\n",
              "          )\n",
              "        )\n",
              "      )\n",
              "    )\n",
              "    (pooler): BertPooler(\n",
              "      (dense): Linear(in_features=768, out_features=768, bias=True)\n",
              "      (activation): Tanh()\n",
              "    )\n",
              "  )\n",
              "  (dropout): Dropout(p=0.1, inplace=False)\n",
              "  (classifier): Linear(in_features=768, out_features=2, bias=True)\n",
              ")"
            ]
          },
          "metadata": {
            "tags": []
          },
          "execution_count": 19
        },
        {
          "output_type": "stream",
          "text": [
            "time: 8.71 ms (started: 2021-05-06 20:20:20 +00:00)\n"
          ],
          "name": "stdout"
        }
      ]
    },
    {
      "cell_type": "markdown",
      "metadata": {
        "id": "EwYTpyH9ayji"
      },
      "source": [
        "# **Fine Tuning & Evaluation**\n",
        "Fine tuning here is used to compare pre-trained models. The models are fine-tuned on my specific task (porn classification task). The hyperparameters values follow the fine-tuning hyperparameter configurations written on the pre-trained models' paper).\n",
        "\n",
        "```\n",
        "@inproceedings{wilie2020indonlu,\n",
        "  title={IndoNLU: Benchmark and Resources for Evaluating Indonesian Natural Language Understanding},\n",
        "  author={Bryan Wilie and Karissa Vincentio and Genta Indra Winata and Samuel Cahyawijaya and X. Li and Zhi Yuan Lim and S. Soleman and R. Mahendra and Pascale Fung and Syafri Bahar and A. Purwarianti},\n",
        "  booktitle={Proceedings of the 1st Conference of the Asia-Pacific Chapter of the Association for Computational Linguistics and the 10th International Joint Conference on Natural Language Processing},\n",
        "  year={2020}\n",
        "}\n",
        "```\n",
        "\n"
      ]
    },
    {
      "cell_type": "code",
      "metadata": {
        "id": "-VXoDH0Ua1Ar",
        "colab": {
          "base_uri": "https://localhost:8080/"
        },
        "outputId": "87f35f7b-0133-4794-b48d-9a31a717b7bb"
      },
      "source": [
        "ih.train(model,\n",
        "         train_loader=train_loader,\n",
        "         valid_loader=valid_loader,\n",
        "         optimizer=optimizer,\n",
        "         forward_fn=forward_sequence_classification,\n",
        "         metrics_fn=metrics,\n",
        "         valid_criterion=valid_criterion,\n",
        "         i2w=i2l,\n",
        "         n_epochs=n_epochs,\n",
        "         max_norm=max_norm,\n",
        "         early_stop=early_stop,\n",
        "         model_dir=model_dir,\n",
        "         split=split, \n",
        "         isTuningLR=False)"
      ],
      "execution_count": 20,
      "outputs": [
        {
          "output_type": "stream",
          "text": [
            "\r  0%|          | 0/580 [00:00<?, ?it/s]"
          ],
          "name": "stderr"
        },
        {
          "output_type": "stream",
          "text": [
            "\n",
            "\n",
            "\u001b[1mEPOCH 1\u001b[0m\n"
          ],
          "name": "stdout"
        },
        {
          "output_type": "stream",
          "text": [
            "/usr/local/lib/python3.7/dist-packages/torch/utils/data/dataloader.py:477: UserWarning: This DataLoader will create 16 worker processes in total. Our suggested max number of worker in current system is 2, which is smaller than what this DataLoader is going to create. Please be aware that excessive worker creation might get DataLoader running slow or even freeze, lower the worker number to avoid potential slowness/freeze if necessary.\n",
            "  cpuset_checked))\n",
            "\u001b[1mTRAIN LOSS:\u001b[0m0.2941 \u001b[1mACC:\u001b[0m0.8700 \u001b[1mF1:\u001b[0m0.8663 \u001b[1mREC:\u001b[0m0.8700 \u001b[1mPRE:\u001b[0m0.8644 \u001b[1mLR:\u001b[0m0.00004000: 100%|██████████| 580/580 [03:29<00:00,  2.77it/s]\n",
            "\u001b[1mVALID LOSS:\u001b[0m0.0071 \u001b[1mACC:\u001b[0m1.0000 \u001b[1mF1:\u001b[0m1.0000 \u001b[1mREC:\u001b[0m1.0000 \u001b[1mPRE:\u001b[0m1.0000:   5%|▍         | 3/65 [00:00<00:36,  1.69it/s]/usr/local/lib/python3.7/dist-packages/sklearn/metrics/_classification.py:1272: UndefinedMetricWarning: Recall is ill-defined and being set to 0.0 in labels with no true samples. Use `zero_division` parameter to control this behavior.\n",
            "  _warn_prf(average, modifier, msg_start, len(result))\n",
            "\u001b[1mVALID LOSS:\u001b[0m0.2793 \u001b[1mACC:\u001b[0m0.9058 \u001b[1mF1:\u001b[0m0.8997 \u001b[1mREC:\u001b[0m0.9058 \u001b[1mPRE:\u001b[0m0.9030: 100%|██████████| 65/65 [00:05<00:00, 12.92it/s]\n",
            "  0%|          | 0/580 [00:00<?, ?it/s]"
          ],
          "name": "stderr"
        },
        {
          "output_type": "stream",
          "text": [
            "\n",
            "\u001b[1mElapsed time so far: 0:03:40.839851 \u001b[0m\n",
            "\n",
            "\n",
            "\u001b[1mEPOCH 2\u001b[0m\n"
          ],
          "name": "stdout"
        },
        {
          "output_type": "stream",
          "text": [
            "\u001b[1mTRAIN LOSS:\u001b[0m0.2022 \u001b[1mACC:\u001b[0m0.9230 \u001b[1mF1:\u001b[0m0.9224 \u001b[1mREC:\u001b[0m0.9230 \u001b[1mPRE:\u001b[0m0.9220 \u001b[1mLR:\u001b[0m0.00004000: 100%|██████████| 580/580 [03:23<00:00,  2.85it/s]\n",
            "\u001b[1mVALID LOSS:\u001b[0m0.3719 \u001b[1mACC:\u001b[0m0.8583 \u001b[1mF1:\u001b[0m0.8560 \u001b[1mREC:\u001b[0m0.8583 \u001b[1mPRE:\u001b[0m0.8543: 100%|██████████| 65/65 [00:05<00:00, 12.79it/s]\n",
            "  0%|          | 0/580 [00:00<?, ?it/s]"
          ],
          "name": "stderr"
        },
        {
          "output_type": "stream",
          "text": [
            "\u001b[1mCount Stop:\u001b[0m 1\n",
            "\n",
            "\u001b[1mElapsed time so far: 0:07:09.665768 \u001b[0m\n",
            "\n",
            "\n",
            "\u001b[1mEPOCH 3\u001b[0m\n"
          ],
          "name": "stdout"
        },
        {
          "output_type": "stream",
          "text": [
            "\u001b[1mTRAIN LOSS:\u001b[0m0.1208 \u001b[1mACC:\u001b[0m0.9591 \u001b[1mF1:\u001b[0m0.9590 \u001b[1mREC:\u001b[0m0.9591 \u001b[1mPRE:\u001b[0m0.9590 \u001b[1mLR:\u001b[0m0.00004000: 100%|██████████| 580/580 [03:22<00:00,  2.86it/s]\n",
            "\u001b[1mVALID LOSS:\u001b[0m0.5886 \u001b[1mACC:\u001b[0m0.8291 \u001b[1mF1:\u001b[0m0.8218 \u001b[1mREC:\u001b[0m0.8291 \u001b[1mPRE:\u001b[0m0.8177: 100%|██████████| 65/65 [00:05<00:00, 12.70it/s]\n",
            "  0%|          | 0/580 [00:00<?, ?it/s]"
          ],
          "name": "stderr"
        },
        {
          "output_type": "stream",
          "text": [
            "\u001b[1mCount Stop:\u001b[0m 2\n",
            "\n",
            "\u001b[1mElapsed time so far: 0:10:37.792232 \u001b[0m\n",
            "\n",
            "\n",
            "\u001b[1mEPOCH 4\u001b[0m\n"
          ],
          "name": "stdout"
        },
        {
          "output_type": "stream",
          "text": [
            "\u001b[1mTRAIN LOSS:\u001b[0m0.0725 \u001b[1mACC:\u001b[0m0.9772 \u001b[1mF1:\u001b[0m0.9772 \u001b[1mREC:\u001b[0m0.9772 \u001b[1mPRE:\u001b[0m0.9771 \u001b[1mLR:\u001b[0m0.00004000: 100%|██████████| 580/580 [03:37<00:00,  2.67it/s]\n",
            "\u001b[1mVALID LOSS:\u001b[0m0.5790 \u001b[1mACC:\u001b[0m0.8544 \u001b[1mF1:\u001b[0m0.8544 \u001b[1mREC:\u001b[0m0.8544 \u001b[1mPRE:\u001b[0m0.8544: 100%|██████████| 65/65 [00:05<00:00, 12.71it/s]\n",
            "  0%|          | 0/580 [00:00<?, ?it/s]"
          ],
          "name": "stderr"
        },
        {
          "output_type": "stream",
          "text": [
            "\u001b[1mCount Stop:\u001b[0m 3\n",
            "\n",
            "\u001b[1mElapsed time so far: 0:14:20.037175 \u001b[0m\n",
            "\n",
            "\n",
            "\u001b[1mEPOCH 5\u001b[0m\n"
          ],
          "name": "stdout"
        },
        {
          "output_type": "stream",
          "text": [
            "\u001b[1mTRAIN LOSS:\u001b[0m0.0449 \u001b[1mACC:\u001b[0m0.9865 \u001b[1mF1:\u001b[0m0.9865 \u001b[1mREC:\u001b[0m0.9865 \u001b[1mPRE:\u001b[0m0.9865 \u001b[1mLR:\u001b[0m0.00004000: 100%|██████████| 580/580 [03:21<00:00,  2.88it/s]\n",
            "\u001b[1mVALID LOSS:\u001b[0m0.6464 \u001b[1mACC:\u001b[0m0.8417 \u001b[1mF1:\u001b[0m0.8446 \u001b[1mREC:\u001b[0m0.8417 \u001b[1mPRE:\u001b[0m0.8484: 100%|██████████| 65/65 [00:05<00:00, 12.87it/s]\n",
            "  0%|          | 0/580 [00:00<?, ?it/s]"
          ],
          "name": "stderr"
        },
        {
          "output_type": "stream",
          "text": [
            "\u001b[1mCount Stop:\u001b[0m 4\n",
            "\n",
            "\u001b[1mElapsed time so far: 0:17:46.695812 \u001b[0m\n",
            "\n",
            "\n",
            "\u001b[1mEPOCH 6\u001b[0m\n"
          ],
          "name": "stdout"
        },
        {
          "output_type": "stream",
          "text": [
            "\u001b[1mTRAIN LOSS:\u001b[0m0.0325 \u001b[1mACC:\u001b[0m0.9918 \u001b[1mF1:\u001b[0m0.9918 \u001b[1mREC:\u001b[0m0.9918 \u001b[1mPRE:\u001b[0m0.9918 \u001b[1mLR:\u001b[0m0.00004000: 100%|██████████| 580/580 [03:36<00:00,  2.68it/s]\n",
            "\u001b[1mVALID LOSS:\u001b[0m0.7629 \u001b[1mACC:\u001b[0m0.8301 \u001b[1mF1:\u001b[0m0.8324 \u001b[1mREC:\u001b[0m0.8301 \u001b[1mPRE:\u001b[0m0.8350: 100%|██████████| 65/65 [00:05<00:00, 12.89it/s]\n",
            "  0%|          | 0/580 [00:00<?, ?it/s]"
          ],
          "name": "stderr"
        },
        {
          "output_type": "stream",
          "text": [
            "\u001b[1mCount Stop:\u001b[0m 5\n",
            "\n",
            "\u001b[1mElapsed time so far: 0:21:27.790393 \u001b[0m\n",
            "\n",
            "\n",
            "\u001b[1mEPOCH 7\u001b[0m\n"
          ],
          "name": "stdout"
        },
        {
          "output_type": "stream",
          "text": [
            "\u001b[1mTRAIN LOSS:\u001b[0m0.0335 \u001b[1mACC:\u001b[0m0.9913 \u001b[1mF1:\u001b[0m0.9913 \u001b[1mREC:\u001b[0m0.9913 \u001b[1mPRE:\u001b[0m0.9913 \u001b[1mLR:\u001b[0m0.00004000: 100%|██████████| 580/580 [03:31<00:00,  2.74it/s]\n",
            "\u001b[1mVALID LOSS:\u001b[0m0.8050 \u001b[1mACC:\u001b[0m0.8272 \u001b[1mF1:\u001b[0m0.8104 \u001b[1mREC:\u001b[0m0.8272 \u001b[1mPRE:\u001b[0m0.8073: 100%|██████████| 65/65 [00:05<00:00, 12.82it/s]\n",
            "  0%|          | 0/580 [00:00<?, ?it/s]"
          ],
          "name": "stderr"
        },
        {
          "output_type": "stream",
          "text": [
            "\u001b[1mCount Stop:\u001b[0m 6\n",
            "\n",
            "\u001b[1mElapsed time so far: 0:25:04.702498 \u001b[0m\n",
            "\n",
            "\n",
            "\u001b[1mEPOCH 8\u001b[0m\n"
          ],
          "name": "stdout"
        },
        {
          "output_type": "stream",
          "text": [
            "\u001b[1mTRAIN LOSS:\u001b[0m0.0267 \u001b[1mACC:\u001b[0m0.9940 \u001b[1mF1:\u001b[0m0.9939 \u001b[1mREC:\u001b[0m0.9940 \u001b[1mPRE:\u001b[0m0.9939 \u001b[1mLR:\u001b[0m0.00004000: 100%|██████████| 580/580 [03:24<00:00,  2.83it/s]\n",
            "\u001b[1mVALID LOSS:\u001b[0m0.7833 \u001b[1mACC:\u001b[0m0.8456 \u001b[1mF1:\u001b[0m0.8399 \u001b[1mREC:\u001b[0m0.8456 \u001b[1mPRE:\u001b[0m0.8368: 100%|██████████| 65/65 [00:05<00:00, 12.80it/s]\n",
            "  0%|          | 0/580 [00:00<?, ?it/s]"
          ],
          "name": "stderr"
        },
        {
          "output_type": "stream",
          "text": [
            "\u001b[1mCount Stop:\u001b[0m 7\n",
            "\n",
            "\u001b[1mElapsed time so far: 0:28:34.623547 \u001b[0m\n",
            "\n",
            "\n",
            "\u001b[1mEPOCH 9\u001b[0m\n"
          ],
          "name": "stdout"
        },
        {
          "output_type": "stream",
          "text": [
            "\u001b[1mTRAIN LOSS:\u001b[0m0.0268 \u001b[1mACC:\u001b[0m0.9935 \u001b[1mF1:\u001b[0m0.9935 \u001b[1mREC:\u001b[0m0.9935 \u001b[1mPRE:\u001b[0m0.9935 \u001b[1mLR:\u001b[0m0.00004000: 100%|██████████| 580/580 [03:16<00:00,  2.94it/s]\n",
            "\u001b[1mVALID LOSS:\u001b[0m0.8521 \u001b[1mACC:\u001b[0m0.8243 \u001b[1mF1:\u001b[0m0.8266 \u001b[1mREC:\u001b[0m0.8243 \u001b[1mPRE:\u001b[0m0.8294: 100%|██████████| 65/65 [00:05<00:00, 12.93it/s]\n",
            "  0%|          | 0/580 [00:00<?, ?it/s]"
          ],
          "name": "stderr"
        },
        {
          "output_type": "stream",
          "text": [
            "\u001b[1mCount Stop:\u001b[0m 8\n",
            "\n",
            "\u001b[1mElapsed time so far: 0:31:56.658185 \u001b[0m\n",
            "\n",
            "\n",
            "\u001b[1mEPOCH 10\u001b[0m\n"
          ],
          "name": "stdout"
        },
        {
          "output_type": "stream",
          "text": [
            "\u001b[1mTRAIN LOSS:\u001b[0m0.0269 \u001b[1mACC:\u001b[0m0.9941 \u001b[1mF1:\u001b[0m0.9941 \u001b[1mREC:\u001b[0m0.9941 \u001b[1mPRE:\u001b[0m0.9941 \u001b[1mLR:\u001b[0m0.00004000: 100%|██████████| 580/580 [03:42<00:00,  2.61it/s]\n",
            "\u001b[1mVALID LOSS:\u001b[0m1.0108 \u001b[1mACC:\u001b[0m0.8136 \u001b[1mF1:\u001b[0m0.8177 \u001b[1mREC:\u001b[0m0.8136 \u001b[1mPRE:\u001b[0m0.8230: 100%|██████████| 65/65 [00:05<00:00, 12.83it/s]\n",
            "  0%|          | 0/580 [00:00<?, ?it/s]"
          ],
          "name": "stderr"
        },
        {
          "output_type": "stream",
          "text": [
            "\u001b[1mCount Stop:\u001b[0m 9\n",
            "\n",
            "\u001b[1mElapsed time so far: 0:35:43.984297 \u001b[0m\n",
            "\n",
            "\n",
            "\u001b[1mEPOCH 11\u001b[0m\n"
          ],
          "name": "stdout"
        },
        {
          "output_type": "stream",
          "text": [
            "\u001b[1mTRAIN LOSS:\u001b[0m0.0346 \u001b[1mACC:\u001b[0m0.9924 \u001b[1mF1:\u001b[0m0.9924 \u001b[1mREC:\u001b[0m0.9924 \u001b[1mPRE:\u001b[0m0.9924 \u001b[1mLR:\u001b[0m0.00004000: 100%|██████████| 580/580 [03:43<00:00,  2.59it/s]\n",
            "\u001b[1mVALID LOSS:\u001b[0m0.7729 \u001b[1mACC:\u001b[0m0.8417 \u001b[1mF1:\u001b[0m0.8416 \u001b[1mREC:\u001b[0m0.8417 \u001b[1mPRE:\u001b[0m0.8415: 100%|██████████| 65/65 [00:05<00:00, 12.83it/s]\n",
            "  0%|          | 0/580 [00:00<?, ?it/s]"
          ],
          "name": "stderr"
        },
        {
          "output_type": "stream",
          "text": [
            "\u001b[1mCount Stop:\u001b[0m 10\n",
            "\n",
            "\u001b[1mElapsed time so far: 0:39:32.690592 \u001b[0m\n",
            "\n",
            "\n",
            "\u001b[1mEPOCH 12\u001b[0m\n"
          ],
          "name": "stdout"
        },
        {
          "output_type": "stream",
          "text": [
            "\u001b[1mTRAIN LOSS:\u001b[0m0.0276 \u001b[1mACC:\u001b[0m0.9946 \u001b[1mF1:\u001b[0m0.9946 \u001b[1mREC:\u001b[0m0.9946 \u001b[1mPRE:\u001b[0m0.9946 \u001b[1mLR:\u001b[0m0.00004000: 100%|██████████| 580/580 [03:40<00:00,  2.63it/s]\n",
            "\u001b[1mVALID LOSS:\u001b[0m0.8132 \u001b[1mACC:\u001b[0m0.8505 \u001b[1mF1:\u001b[0m0.8421 \u001b[1mREC:\u001b[0m0.8505 \u001b[1mPRE:\u001b[0m0.8395: 100%|██████████| 65/65 [00:05<00:00, 12.88it/s]\n",
            "  0%|          | 0/580 [00:00<?, ?it/s]"
          ],
          "name": "stderr"
        },
        {
          "output_type": "stream",
          "text": [
            "\u001b[1mCount Stop:\u001b[0m 11\n",
            "\n",
            "\u001b[1mElapsed time so far: 0:43:18.660765 \u001b[0m\n",
            "\n",
            "\n",
            "\u001b[1mEPOCH 13\u001b[0m\n"
          ],
          "name": "stdout"
        },
        {
          "output_type": "stream",
          "text": [
            "\u001b[1mTRAIN LOSS:\u001b[0m0.0224 \u001b[1mACC:\u001b[0m0.9956 \u001b[1mF1:\u001b[0m0.9956 \u001b[1mREC:\u001b[0m0.9956 \u001b[1mPRE:\u001b[0m0.9956 \u001b[1mLR:\u001b[0m0.00004000: 100%|██████████| 580/580 [03:42<00:00,  2.60it/s]\n",
            "\u001b[1mVALID LOSS:\u001b[0m0.9172 \u001b[1mACC:\u001b[0m0.8398 \u001b[1mF1:\u001b[0m0.8240 \u001b[1mREC:\u001b[0m0.8398 \u001b[1mPRE:\u001b[0m0.8233: 100%|██████████| 65/65 [00:05<00:00, 12.94it/s]"
          ],
          "name": "stderr"
        },
        {
          "output_type": "stream",
          "text": [
            "\u001b[1mCount Stop:\u001b[0m 12\n",
            "\n",
            "\n",
            "\n",
            "============================== \u001b[1mFINISH TRAINING AND VALIDATION\u001b[0m ==============================\n",
            "\u001b[1mTotal Training and Validation Time:\u001b[0m\n",
            "      0:47:06.598013\n",
            "\u001b[1mBest Performance\u001b[0m (achieved at \u001b[1mEpoch 0\u001b[0m):\n",
            "      \u001b[1mACC:\u001b[0m0.9058 \u001b[1mF1:\u001b[0m0.8997 \u001b[1mREC:\u001b[0m0.9058 \u001b[1mPRE:\u001b[0m0.9030\n",
            "\u001b[1mBest Classification Report\u001b[0m (achieved at \u001b[1mEpoch 0\u001b[0m):\n",
            "                    precision    recall  f1-score   support\n",
            "\n",
            "bukan_konten_porno       0.86      0.62      0.72       202\n",
            "      konten_porno       0.91      0.98      0.94       828\n",
            "\n",
            "          accuracy                           0.91      1030\n",
            "         macro avg       0.89      0.80      0.83      1030\n",
            "      weighted avg       0.90      0.91      0.90      1030\n",
            "\n",
            "time: 47min 6s (started: 2021-05-06 20:20:20 +00:00)\n"
          ],
          "name": "stdout"
        },
        {
          "output_type": "stream",
          "text": [
            "\n"
          ],
          "name": "stderr"
        }
      ]
    },
    {
      "cell_type": "code",
      "metadata": {
        "id": "W8rUrkdfbZb1",
        "colab": {
          "base_uri": "https://localhost:8080/"
        },
        "outputId": "055a6c42-374e-4df5-87fb-9f07eef96a1e"
      },
      "source": [
        "# Load best model\n",
        "# model.load_state_dict(torch.load(model_dir + f'best_model_split-{split}.th'))"
      ],
      "execution_count": 21,
      "outputs": [
        {
          "output_type": "stream",
          "text": [
            "time: 1.02 ms (started: 2021-05-06 21:07:26 +00:00)\n"
          ],
          "name": "stdout"
        }
      ]
    }
  ]
}