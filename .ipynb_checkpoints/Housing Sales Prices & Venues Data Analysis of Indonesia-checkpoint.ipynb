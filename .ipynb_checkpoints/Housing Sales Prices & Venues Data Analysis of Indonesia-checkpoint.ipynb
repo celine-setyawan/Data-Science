{
 "cells": [
  {
   "cell_type": "markdown",
   "metadata": {},
   "source": [
    "1. https://www.bps.go.id/dynamictable/2019/04/16/1615/peringkat-indeks-pembangunan-manusia-menurut-provinsi-2010-2018-metode-baru-.html\n",
    "2. https://www.bps.go.id/dynamictable/2015/09/17/905/jumlah-desa-yang-memiliki-fasilitas-sekolah-menurut-provinsi-dan-tingkat-pendidikan-2003-2018.html\n",
    "3. https://www.bps.go.id/dynamictable/2018/05/28/1387/proporsi-populasi-yang-memiliki-akses-terhadap-layanan-sumber-air-minum-layak-dan-berkelanjutan-menurut-provinsi-2015---2018.html\n",
    "4. https://www.bps.go.id/dynamictable/2016/01/05/1113/jumlah-air-bersih-yang-disalurkan-perusahaan-air-bersih-menurut-provinsi-ribu-m3-1995-2017.html\n",
    "5. https://www.bps.go.id/dynamictable/2019/03/13/1593/listrik-yang-didistribusikan-menurut-provinsi-gwh-2011-2017.html\n",
    "6. https://www.bps.go.id/dynamictable/2015/09/07/842/kepadatan-penduduk-menurut-provinsi-2000-2015.html\n",
    "7. https://www.bps.go.id/dynamictable/2019/12/31/1715/banyaknya-desa-kelurahan-yang-memiliki-menara-bts-menurut-provinsi-klasifikasi-daerah-dan-penerimaan-sinyal-telepon-selular-2011-2014-dan-2018.html\n",
    "8. https://www.bps.go.id/dynamictable/2015/09/19/935/jumlah-desa-kelurahan-yang-memiliki-sarana-kesehatan-menurut-provinsi-2008-2018.html\n",
    "9. https://bnpb.go.id//uploads/24/rencana-kontigensi/Buku_RBI.pdf\n",
    "    https://beritagar.id/artikel/berita/indeks-risiko-bencana-di-34-ibu-kota-provinsi-se-indonesia\n",
    "    https://www.bnpb.go.id/uploads/publication/612/2014-06-03_IRBI_2013_BNPB.pdf\n",
    "    https://www.rumah.com/panduan-properti/tips-memilih-tempat-tinggal-1427\n",
    "10. https://en.wikipedia.org/wiki/Provinces_of_Indonesia\n",
    "11. https://finansial.bisnis.com/read/20191103/11/1166176/ini-daftar-ump-2020-di-34-provinsi\n",
    "12. https://www.menlhk.go.id/uploads/site/post/1540951259.pdf Index Kualitas Lingkungan Hidup\n",
    "\n",
    "\n",
    "\n",
    "\n",
    "\n",
    "- https://data.humdata.org/dataset/indonesia-province-infographic-datasets\n",
    "- https://www.neliti.com/badan-pusat-statistik?q=provinsi&page=10"
   ]
  },
  {
   "cell_type": "markdown",
   "metadata": {},
   "source": [
    "- https://www.dataquest.io/blog/build-a-data-science-portfolio/\n",
    "- https://www.dataquest.io/blog/data-science-portfolio-machine-learning/\n",
    "- https://towardsdatascience.com/how-to-build-a-data-science-portfolio-5f566517c79c"
   ]
  },
  {
   "cell_type": "markdown",
   "metadata": {},
   "source": [
    "- https://s3-api.us-geo.objectstorage.softlayer.net/cf-courses-data/CognitiveClass/DP0701EN/sample_submission/Predicting_the_Improvement_of_NBA_players_Report.pdf\n",
    "- https://www.linkedin.com/pulse/housing-sales-prices-venues-data-analysis-ofistanbul-sercan-y%C4%B1ld%C4%B1z/\n",
    "- https://s3-api.us-geo.objectstorage.softlayer.net/cf-courses-data/CognitiveClass/DP0701EN/sample_submission/Predicting_the_Improvement_of_NBA_players_Presentation.pdf\n",
    "- https://towardsdatascience.com/exploring-the-tokyo-neighborhoods-data-science-in-real-life-8b6c2454ca16\n",
    "- https://github.com/suvoooo/Coursera_Capstone/tree/master/Week5"
   ]
  },
  {
   "cell_type": "markdown",
   "metadata": {},
   "source": [
    "<a id='title'></a>\n",
    "<h1 align=center style=\"color:#009900\">Segmenting and Clustering Neighborhoods in Indonesia Based on Top 10 Common Venues</h1>"
   ]
  },
  {
   "cell_type": "markdown",
   "metadata": {},
   "source": [
    "## Table of Contents\n",
    "\n",
    "<div class=\"alert alert-block alert-info\" style=\"margin-top: 20px\">\n",
    "\n",
    "<font size = 3>\n",
    "\n",
    "<a href=\"#section\">Getting Started</a>\n",
    "<br>\n",
    "1. <a href=\"#section1\">Extract Dataset</a>\n",
    "<br>\n",
    "2. <a href=\"#section2\">Transform Dataset</a>\n",
    "<br>\n",
    "3. <a href=\"#section3\">Explore Neighborhoods in Toronto</a>\n",
    "<br>\n",
    "4. <a href=\"#section4\">Analyze Each Neighborhood</a>\n",
    "<br>\n",
    "5. <a href=\"#section5\">Cluster Neighborhoods</a>\n",
    "<br>\n",
    "6. <a href=\"#section6\">Examine Clusters</a>    \n",
    "</font>\n",
    "</div>"
   ]
  },
  {
   "cell_type": "markdown",
   "metadata": {},
   "source": [
    "<h2 style=\"color:red\">WARNING</h2>\n",
    "\n",
    "Unfortunately, the folium map can't be rendered on GitHub (more explanation can be found [here](https://www.tutorialspoint.com/jupyter/sharing_jupyter_notebook_using_github_and_nbviewer.htm)).\n",
    "\n",
    "Worry not, because you can see this notebook perfectly on [nbviewer]()."
   ]
  },
  {
   "cell_type": "markdown",
   "metadata": {},
   "source": [
    "<a id='intro2'></a>\n",
    "## Data"
   ]
  },
  {
   "cell_type": "markdown",
   "metadata": {},
   "source": [
    "- Pelayanan Air, Listrik, Telepon\n",
    "- Fasilitas Umum (Sekolah, Rumah Sakit, Pusat Perbelanjaan)\n",
    "- Tingkat Rawan Bencana\n",
    "- Index Kualitas Lingkungan Hidup\n",
    "- Index Pembangunan Manusia\n",
    "- UMR"
   ]
  },
  {
   "cell_type": "markdown",
   "metadata": {},
   "source": [
    "<a id='section'></a>\n",
    "## Getting Started\n",
    "\n",
    "Before we get started, we need to install and import all the modules and library needed for analyzing and clustering the data."
   ]
  },
  {
   "cell_type": "markdown",
   "metadata": {},
   "source": [
    "#### Install and import all the dependencies that will be needed"
   ]
  },
  {
   "cell_type": "code",
   "execution_count": 1,
   "metadata": {},
   "outputs": [],
   "source": [
    "# --- library for web scraping ---\n",
    "#!pip install beautifulsoup4\n",
    "from bs4 import BeautifulSoup\n",
    "#!pip install lxml\n",
    "import lxml.html as lh\n",
    "\n",
    "# --- needed to extract table from pdf ---\n",
    "#!pip install PyPDF2\n",
    "import PyPDF2\n",
    "#!pip install tabula-py\n",
    "import tabula\n",
    "\n",
    "# --- library for data analysis ---\n",
    "#!pip install pandas\n",
    "import pandas as pd\n",
    "\n",
    "# --- library to handle data in a vectorized manner ---\n",
    "#!pip install numpy\n",
    "import numpy as np\n",
    "\n",
    "# --- module to convert an address into latitude and longitude values ---\n",
    "#!pip install geopy\n",
    "from geopy.geocoders import Nominatim\n",
    "\n",
    "#!pip install requests\n",
    "import requests\n",
    "\n",
    "# --- library to handle JSON files ---\n",
    "import json\n",
    "from pandas.io.json import json_normalize\n",
    "\n",
    "#!pip install scikit-learn\n",
    "# import k-means from clustering stage\n",
    "from sklearn.cluster import KMeans\n",
    "\n",
    "# -- Matplotlib and associated plotting modules ---\n",
    "#!pip install matplotlib\n",
    "import matplotlib.cm as cm\n",
    "import matplotlib.colors as colors\n",
    "\n",
    "# --- map rendering library ---\n",
    "#!pip install folium\n",
    "import folium"
   ]
  },
  {
   "cell_type": "markdown",
   "metadata": {},
   "source": [
    "<a id='section1'></a>\n",
    "## 1. Extracting and Cleaning Dataset"
   ]
  },
  {
   "cell_type": "markdown",
   "metadata": {},
   "source": [
    "#### Download and tranform the data into a *pandas* dataframe\n",
    "In order to analyze provinces in Indonesia, we need the data of provinces and the corresponding factors that are taken into consideration in choosing an area to live in. We will scrape the data from the sources mentioned <a href=\"#intro2\">above</a>."
   ]
  },
  {
   "cell_type": "code",
   "execution_count": 2,
   "metadata": {
    "scrolled": false
   },
   "outputs": [
    {
     "name": "stdout",
     "output_type": "stream",
     "text": [
      "\n",
      " The inital dataframe's shape:  (34, 12)\n",
      "\n",
      " The updated dataframe's shape:  (34, 2)\n"
     ]
    },
    {
     "data": {
      "text/html": [
       "<div>\n",
       "<style scoped>\n",
       "    .dataframe tbody tr th:only-of-type {\n",
       "        vertical-align: middle;\n",
       "    }\n",
       "\n",
       "    .dataframe tbody tr th {\n",
       "        vertical-align: top;\n",
       "    }\n",
       "\n",
       "    .dataframe thead th {\n",
       "        text-align: right;\n",
       "    }\n",
       "</style>\n",
       "<table border=\"1\" class=\"dataframe\">\n",
       "  <thead>\n",
       "    <tr style=\"text-align: right;\">\n",
       "      <th></th>\n",
       "      <th>Province</th>\n",
       "      <th>Capital</th>\n",
       "    </tr>\n",
       "  </thead>\n",
       "  <tbody>\n",
       "    <tr>\n",
       "      <th>0</th>\n",
       "      <td>ACEH</td>\n",
       "      <td>Banda Aceh</td>\n",
       "    </tr>\n",
       "    <tr>\n",
       "      <th>1</th>\n",
       "      <td>BALI</td>\n",
       "      <td>Denpasar</td>\n",
       "    </tr>\n",
       "    <tr>\n",
       "      <th>2</th>\n",
       "      <td>BANGKA BELITUNG ISLANDS</td>\n",
       "      <td>Pangkalpinang</td>\n",
       "    </tr>\n",
       "    <tr>\n",
       "      <th>3</th>\n",
       "      <td>BANTEN</td>\n",
       "      <td>Serang</td>\n",
       "    </tr>\n",
       "    <tr>\n",
       "      <th>4</th>\n",
       "      <td>BENGKULU</td>\n",
       "      <td>Bengkulu</td>\n",
       "    </tr>\n",
       "  </tbody>\n",
       "</table>\n",
       "</div>"
      ],
      "text/plain": [
       "                  Province        Capital\n",
       "0                     ACEH     Banda Aceh\n",
       "1                     BALI       Denpasar\n",
       "2  BANGKA BELITUNG ISLANDS  Pangkalpinang\n",
       "3                   BANTEN         Serang\n",
       "4                 BENGKULU       Bengkulu"
      ]
     },
     "execution_count": 2,
     "metadata": {},
     "output_type": "execute_result"
    }
   ],
   "source": [
    "provinces_data = pd.read_html('https://en.wikipedia.org/wiki/Provinces_of_Indonesia#Table_of_provinces')[2]\n",
    "print(\"\\n\", \"The inital dataframe's shape: \", provinces_data.shape)\n",
    "\n",
    "# drop unnecessary columns\n",
    "provinces_data.drop(['Arms', 'Indonesian acronym', 'ISO[4]', 'Population (2015)[5]', 'Area (km²)', 'Population density per km²(2010)', 'Geographical unit', 'Numberof cities(kota) andregencies(kabupaten)', 'Numberof cities(kota)', 'Number ofregencies(kabupaten)'], axis=1, inplace = True)\n",
    "print(\"\\n\", \"The updated dataframe's shape: \", provinces_data.shape)\n",
    "provinces_data.columns.values\n",
    "\n",
    "# rename some values to make it more understandable\n",
    "provinces_data.at[9, 'Province'] = 'East Kalimantan'\n",
    "provinces_data.at[12, 'Capital'] = 'Jakarta'\n",
    "\n",
    "# change format to ease the data processing later\n",
    "provinces_data['Province'] = provinces_data['Province'].str.upper()\n",
    "provinces_data.head()"
   ]
  },
  {
   "cell_type": "markdown",
   "metadata": {},
   "source": [
    "#### Add Column: Population Density"
   ]
  },
  {
   "cell_type": "code",
   "execution_count": 3,
   "metadata": {},
   "outputs": [
    {
     "name": "stdout",
     "output_type": "stream",
     "text": [
      "\n",
      " The dataframe's shape:  (34, 2)\n"
     ]
    },
    {
     "data": {
      "text/html": [
       "<div>\n",
       "<style scoped>\n",
       "    .dataframe tbody tr th:only-of-type {\n",
       "        vertical-align: middle;\n",
       "    }\n",
       "\n",
       "    .dataframe tbody tr th {\n",
       "        vertical-align: top;\n",
       "    }\n",
       "\n",
       "    .dataframe thead th {\n",
       "        text-align: right;\n",
       "    }\n",
       "</style>\n",
       "<table border=\"1\" class=\"dataframe\">\n",
       "  <thead>\n",
       "    <tr style=\"text-align: right;\">\n",
       "      <th></th>\n",
       "      <th>Province</th>\n",
       "      <th>Population density by 2015 (people / km²)</th>\n",
       "    </tr>\n",
       "  </thead>\n",
       "  <tbody>\n",
       "    <tr>\n",
       "      <th>0</th>\n",
       "      <td>ACEH</td>\n",
       "      <td>86</td>\n",
       "    </tr>\n",
       "    <tr>\n",
       "      <th>1</th>\n",
       "      <td>BALI</td>\n",
       "      <td>718</td>\n",
       "    </tr>\n",
       "    <tr>\n",
       "      <th>2</th>\n",
       "      <td>BANGKA BELITUNG ISLANDS</td>\n",
       "      <td>84</td>\n",
       "    </tr>\n",
       "    <tr>\n",
       "      <th>3</th>\n",
       "      <td>BANTEN</td>\n",
       "      <td>1237</td>\n",
       "    </tr>\n",
       "    <tr>\n",
       "      <th>4</th>\n",
       "      <td>BENGKULU</td>\n",
       "      <td>94</td>\n",
       "    </tr>\n",
       "  </tbody>\n",
       "</table>\n",
       "</div>"
      ],
      "text/plain": [
       "                  Province  Population density by 2015 (people / km²)\n",
       "0                     ACEH                                         86\n",
       "1                     BALI                                        718\n",
       "2  BANGKA BELITUNG ISLANDS                                         84\n",
       "3                   BANTEN                                       1237\n",
       "4                 BENGKULU                                         94"
      ]
     },
     "execution_count": 3,
     "metadata": {},
     "output_type": "execute_result"
    }
   ],
   "source": [
    "population_density = pd.read_excel('Data Source\\Population Density.xlsx', skiprows = 1)\n",
    "population_density = population_density.iloc[:, [0] + [-1]]\n",
    "\n",
    "# Rename the columns' name to make it more understandable\n",
    "population_density.rename(columns={'Provinsi':'Province', '2015':'Population density by 2015 (people / km²)'}, inplace=True)\n",
    "\n",
    "# Drop unnecesarry row\n",
    "row_index = population_density[population_density['Province'] == 'INDONESIA'].index\n",
    "population_density.drop(row_index, inplace=True)\n",
    "print(\"\\n\", \"The dataframe's shape: \", population_density.shape)\n",
    "population_density.head()"
   ]
  },
  {
   "cell_type": "code",
   "execution_count": 4,
   "metadata": {},
   "outputs": [],
   "source": [
    "# url='https://www.bps.go.id/dynamictable/2015/09/07/842/kepadatan-penduduk-menurut-provinsi-2000-2015'\n",
    "# #Create a handle, page, to handle the contents of the website\n",
    "# page = requests.get(url)\n",
    "# #Store the contents of the website under doc\n",
    "# doc = lh.fromstring(page.content)\n",
    "# #Parse data that are stored between <tr>..</tr> of HTML\n",
    "# tr_elements = doc.xpath('//tbody[17]')\n",
    "# print(tr_elements)\n",
    "\n",
    "# ----------------------------------------------------------------------------------------------------------------------------\n",
    "\n",
    "# with open('Data Source/Population Density.html') as f:\n",
    "#     soup = BeautifulSoup(f, 'lxml')\n",
    "\n",
    "# # --- Scrape Table Header ---\n",
    "# table_header = soup.find('table', attrs={'id':'tableRightUp'})\n",
    "# tr_header = table_header.find_all('tr')\n",
    "\n",
    "# #Create empty list\n",
    "# col=[]\n",
    "# i=0\n",
    "\n",
    "# #For each row, store each first element (header) and an empty list\n",
    "# for t in tr_header:\n",
    "#     print(t)\n",
    "#     name = t[i].text\n",
    "#     i+=1\n",
    "#     print('%d:\"%s\"'%(i, name))\n",
    "#     col.append((name,[]))\n",
    "# print(col)\n",
    "\n",
    "# # --- Scrape Table Cells ---\n",
    "# table_cells = soup.find('table', attrs={'id':'tableRightBottom'})\n",
    "# tr_cells = table_cells.find_all('tr')\n",
    "\n",
    "# print(table_cells)\n",
    "# print(tr_cells)\n",
    "# print(len(tr_cells))"
   ]
  },
  {
   "cell_type": "markdown",
   "metadata": {},
   "source": [
    "#### Add Column: Distributed Electricity (GWh)"
   ]
  },
  {
   "cell_type": "code",
   "execution_count": 5,
   "metadata": {},
   "outputs": [
    {
     "name": "stdout",
     "output_type": "stream",
     "text": [
      "\n",
      " The dataframe's shape:  (34, 2)\n"
     ]
    },
    {
     "data": {
      "text/html": [
       "<div>\n",
       "<style scoped>\n",
       "    .dataframe tbody tr th:only-of-type {\n",
       "        vertical-align: middle;\n",
       "    }\n",
       "\n",
       "    .dataframe tbody tr th {\n",
       "        vertical-align: top;\n",
       "    }\n",
       "\n",
       "    .dataframe thead th {\n",
       "        text-align: right;\n",
       "    }\n",
       "</style>\n",
       "<table border=\"1\" class=\"dataframe\">\n",
       "  <thead>\n",
       "    <tr style=\"text-align: right;\">\n",
       "      <th></th>\n",
       "      <th>Province</th>\n",
       "      <th>Distributed Electricity by 2017 (GWh)</th>\n",
       "    </tr>\n",
       "  </thead>\n",
       "  <tbody>\n",
       "    <tr>\n",
       "      <th>0</th>\n",
       "      <td>ACEH</td>\n",
       "      <td>2409.11</td>\n",
       "    </tr>\n",
       "    <tr>\n",
       "      <th>1</th>\n",
       "      <td>BALI</td>\n",
       "      <td>5069.64</td>\n",
       "    </tr>\n",
       "    <tr>\n",
       "      <th>2</th>\n",
       "      <td>BANGKA BELITUNG ISLANDS</td>\n",
       "      <td>979.19</td>\n",
       "    </tr>\n",
       "    <tr>\n",
       "      <th>3</th>\n",
       "      <td>BANTEN</td>\n",
       "      <td>22557.53</td>\n",
       "    </tr>\n",
       "    <tr>\n",
       "      <th>4</th>\n",
       "      <td>BENGKULU</td>\n",
       "      <td>852.84</td>\n",
       "    </tr>\n",
       "  </tbody>\n",
       "</table>\n",
       "</div>"
      ],
      "text/plain": [
       "                  Province  Distributed Electricity by 2017 (GWh)\n",
       "0                     ACEH                                2409.11\n",
       "1                     BALI                                5069.64\n",
       "2  BANGKA BELITUNG ISLANDS                                 979.19\n",
       "3                   BANTEN                               22557.53\n",
       "4                 BENGKULU                                 852.84"
      ]
     },
     "execution_count": 5,
     "metadata": {},
     "output_type": "execute_result"
    }
   ],
   "source": [
    "electricity = pd.read_excel('Data Source\\\\Distributed Electricity (GWh).xlsx', skiprows = 1)\n",
    "electricity = electricity.iloc[:, [0] + [-1]]\n",
    "\n",
    "# Rename the columns' name to make it more understandable\n",
    "electricity.rename(columns={'Provinsi':'Province', '2017':'Distributed Electricity by 2017 (GWh)'}, inplace=True)\n",
    "\n",
    "# Drop unnecesarry row\n",
    "row_index = electricity[electricity['Province'] == 'INDONESIA'].index\n",
    "electricity.drop(row_index, inplace=True)\n",
    "print(\"\\n\", \"The dataframe's shape: \", electricity.shape)\n",
    "electricity.head()"
   ]
  },
  {
   "cell_type": "markdown",
   "metadata": {},
   "source": [
    "#### Add Column: Number of BTS (Base Transceiver Station) Tower"
   ]
  },
  {
   "cell_type": "code",
   "execution_count": 6,
   "metadata": {},
   "outputs": [],
   "source": [
    "# bts = pd.read_excel('Data Source\\\\Number of BTS Tower.xlsx', skiprows = 3)\n",
    "# bts = bts.iloc[:, [0] + [-1]]\n",
    "\n",
    "# # Rename the columns' name to make it more understandable\n",
    "# bts.rename(columns={'Provinsi':'Province', '2017':'Distributed Electricity by 2017 (GWh)'}, inplace=True)\n",
    "\n",
    "# # Drop unnecesarry row\n",
    "# row_index = bts[bts['Province'] == 'INDONESIA'].index\n",
    "# bts.drop(row_index, inplace=True)\n",
    "# print(\"\\n\", \"The dataframe's shape: \", bts.shape)\n",
    "# bts.head()"
   ]
  },
  {
   "cell_type": "markdown",
   "metadata": {},
   "source": [
    "#### Add Column: Number of School"
   ]
  },
  {
   "cell_type": "code",
   "execution_count": 7,
   "metadata": {},
   "outputs": [
    {
     "name": "stdout",
     "output_type": "stream",
     "text": [
      "\n",
      " The dataframe's shape:  (34, 2)\n"
     ]
    },
    {
     "data": {
      "text/html": [
       "<div>\n",
       "<style scoped>\n",
       "    .dataframe tbody tr th:only-of-type {\n",
       "        vertical-align: middle;\n",
       "    }\n",
       "\n",
       "    .dataframe tbody tr th {\n",
       "        vertical-align: top;\n",
       "    }\n",
       "\n",
       "    .dataframe thead th {\n",
       "        text-align: right;\n",
       "    }\n",
       "</style>\n",
       "<table border=\"1\" class=\"dataframe\">\n",
       "  <thead>\n",
       "    <tr style=\"text-align: right;\">\n",
       "      <th></th>\n",
       "      <th>Province</th>\n",
       "      <th>Number of School by 2018 (Elementary - University)</th>\n",
       "    </tr>\n",
       "  </thead>\n",
       "  <tbody>\n",
       "    <tr>\n",
       "      <th>0</th>\n",
       "      <td>ACEH</td>\n",
       "      <td>5600</td>\n",
       "    </tr>\n",
       "    <tr>\n",
       "      <th>1</th>\n",
       "      <td>BALI</td>\n",
       "      <td>1322</td>\n",
       "    </tr>\n",
       "    <tr>\n",
       "      <th>2</th>\n",
       "      <td>BANGKA BELITUNG ISLANDS</td>\n",
       "      <td>726</td>\n",
       "    </tr>\n",
       "    <tr>\n",
       "      <th>3</th>\n",
       "      <td>BANTEN</td>\n",
       "      <td>4034</td>\n",
       "    </tr>\n",
       "    <tr>\n",
       "      <th>4</th>\n",
       "      <td>BENGKULU</td>\n",
       "      <td>1950</td>\n",
       "    </tr>\n",
       "  </tbody>\n",
       "</table>\n",
       "</div>"
      ],
      "text/plain": [
       "                  Province  Number of School by 2018 (Elementary - University)\n",
       "0                     ACEH                                               5600 \n",
       "1                     BALI                                               1322 \n",
       "2  BANGKA BELITUNG ISLANDS                                                726 \n",
       "3                   BANTEN                                               4034 \n",
       "4                 BENGKULU                                               1950 "
      ]
     },
     "execution_count": 7,
     "metadata": {},
     "output_type": "execute_result"
    }
   ],
   "source": [
    "numb_school = pd.read_excel('Data Source\\\\Number of School.xlsx', skiprows = 2)\n",
    "numb_school = numb_school.iloc[:, [0] + [-1]]\n",
    "\n",
    "# Rename the columns' name to make it more understandable\n",
    "numb_school.rename(columns={'Provinsi':'Province', 'Total':'Number of School by 2018 (Elementary - University)'}, inplace=True)\n",
    "\n",
    "# Drop unnecesarry row\n",
    "row_index = numb_school[numb_school['Province'] == 'INDONESIA'].index\n",
    "numb_school.drop(row_index, inplace=True)\n",
    "print(\"\\n\", \"The dataframe's shape: \", numb_school.shape)\n",
    "numb_school.head()"
   ]
  },
  {
   "cell_type": "markdown",
   "metadata": {},
   "source": [
    "#### Add Column: Number of Health Facilities"
   ]
  },
  {
   "cell_type": "code",
   "execution_count": 8,
   "metadata": {},
   "outputs": [
    {
     "name": "stdout",
     "output_type": "stream",
     "text": [
      "\n",
      " The dataframe's shape:  (34, 2)\n"
     ]
    },
    {
     "data": {
      "text/html": [
       "<div>\n",
       "<style scoped>\n",
       "    .dataframe tbody tr th:only-of-type {\n",
       "        vertical-align: middle;\n",
       "    }\n",
       "\n",
       "    .dataframe tbody tr th {\n",
       "        vertical-align: top;\n",
       "    }\n",
       "\n",
       "    .dataframe thead th {\n",
       "        text-align: right;\n",
       "    }\n",
       "</style>\n",
       "<table border=\"1\" class=\"dataframe\">\n",
       "  <thead>\n",
       "    <tr style=\"text-align: right;\">\n",
       "      <th></th>\n",
       "      <th>Province</th>\n",
       "      <th>Number of Health Facilities by 2018</th>\n",
       "    </tr>\n",
       "  </thead>\n",
       "  <tbody>\n",
       "    <tr>\n",
       "      <th>0</th>\n",
       "      <td>ACEH</td>\n",
       "      <td>2259</td>\n",
       "    </tr>\n",
       "    <tr>\n",
       "      <th>1</th>\n",
       "      <td>BALI</td>\n",
       "      <td>1014</td>\n",
       "    </tr>\n",
       "    <tr>\n",
       "      <th>2</th>\n",
       "      <td>BANGKA BELITUNG ISLANDS</td>\n",
       "      <td>355</td>\n",
       "    </tr>\n",
       "    <tr>\n",
       "      <th>3</th>\n",
       "      <td>BANTEN</td>\n",
       "      <td>1849</td>\n",
       "    </tr>\n",
       "    <tr>\n",
       "      <th>4</th>\n",
       "      <td>BENGKULU</td>\n",
       "      <td>861</td>\n",
       "    </tr>\n",
       "  </tbody>\n",
       "</table>\n",
       "</div>"
      ],
      "text/plain": [
       "                  Province  Number of Health Facilities by 2018\n",
       "0                     ACEH                                 2259\n",
       "1                     BALI                                 1014\n",
       "2  BANGKA BELITUNG ISLANDS                                  355\n",
       "3                   BANTEN                                 1849\n",
       "4                 BENGKULU                                  861"
      ]
     },
     "execution_count": 8,
     "metadata": {},
     "output_type": "execute_result"
    }
   ],
   "source": [
    "health_facility = pd.read_excel('Data Source\\\\Number of Health Facilities.xlsx', skiprows = 2)\n",
    "health_facility = health_facility.iloc[:, [0] + [-1]]\n",
    "\n",
    "# Rename the columns' name to make it more understandable\n",
    "health_facility.rename(columns={'Provinsi':'Province', 'Total':'Number of Health Facilities by 2018'}, inplace=True)\n",
    "\n",
    "# Drop unnecesarry row\n",
    "row_index = health_facility[health_facility['Province'] == 'INDONESIA'].index\n",
    "health_facility.drop(row_index, inplace=True)\n",
    "print(\"\\n\", \"The dataframe's shape: \", health_facility.shape)\n",
    "health_facility.head()"
   ]
  },
  {
   "cell_type": "markdown",
   "metadata": {},
   "source": [
    "#### Add Column: Number of Market"
   ]
  },
  {
   "cell_type": "code",
   "execution_count": 9,
   "metadata": {},
   "outputs": [
    {
     "ename": "KeyError",
     "evalue": "'Province'",
     "output_type": "error",
     "traceback": [
      "\u001b[1;31m---------------------------------------------------------------------------\u001b[0m",
      "\u001b[1;31mKeyError\u001b[0m                                  Traceback (most recent call last)",
      "\u001b[1;32mc:\\users\\asus\\appdata\\local\\programs\\python\\python37\\lib\\site-packages\\pandas\\core\\indexes\\base.py\u001b[0m in \u001b[0;36mget_loc\u001b[1;34m(self, key, method, tolerance)\u001b[0m\n\u001b[0;32m   2896\u001b[0m             \u001b[1;32mtry\u001b[0m\u001b[1;33m:\u001b[0m\u001b[1;33m\u001b[0m\u001b[1;33m\u001b[0m\u001b[0m\n\u001b[1;32m-> 2897\u001b[1;33m                 \u001b[1;32mreturn\u001b[0m \u001b[0mself\u001b[0m\u001b[1;33m.\u001b[0m\u001b[0m_engine\u001b[0m\u001b[1;33m.\u001b[0m\u001b[0mget_loc\u001b[0m\u001b[1;33m(\u001b[0m\u001b[0mkey\u001b[0m\u001b[1;33m)\u001b[0m\u001b[1;33m\u001b[0m\u001b[1;33m\u001b[0m\u001b[0m\n\u001b[0m\u001b[0;32m   2898\u001b[0m             \u001b[1;32mexcept\u001b[0m \u001b[0mKeyError\u001b[0m\u001b[1;33m:\u001b[0m\u001b[1;33m\u001b[0m\u001b[1;33m\u001b[0m\u001b[0m\n",
      "\u001b[1;32mpandas/_libs/index.pyx\u001b[0m in \u001b[0;36mpandas._libs.index.IndexEngine.get_loc\u001b[1;34m()\u001b[0m\n",
      "\u001b[1;32mpandas/_libs/index.pyx\u001b[0m in \u001b[0;36mpandas._libs.index.IndexEngine.get_loc\u001b[1;34m()\u001b[0m\n",
      "\u001b[1;32mpandas/_libs/hashtable_class_helper.pxi\u001b[0m in \u001b[0;36mpandas._libs.hashtable.PyObjectHashTable.get_item\u001b[1;34m()\u001b[0m\n",
      "\u001b[1;32mpandas/_libs/hashtable_class_helper.pxi\u001b[0m in \u001b[0;36mpandas._libs.hashtable.PyObjectHashTable.get_item\u001b[1;34m()\u001b[0m\n",
      "\u001b[1;31mKeyError\u001b[0m: 'Province'",
      "\nDuring handling of the above exception, another exception occurred:\n",
      "\u001b[1;31mKeyError\u001b[0m                                  Traceback (most recent call last)",
      "\u001b[1;32m<ipython-input-9-723091d23105>\u001b[0m in \u001b[0;36m<module>\u001b[1;34m\u001b[0m\n\u001b[0;32m      6\u001b[0m \u001b[1;33m\u001b[0m\u001b[0m\n\u001b[0;32m      7\u001b[0m \u001b[1;31m# Drop unnecesarry row\u001b[0m\u001b[1;33m\u001b[0m\u001b[1;33m\u001b[0m\u001b[1;33m\u001b[0m\u001b[0m\n\u001b[1;32m----> 8\u001b[1;33m \u001b[0mrow_index\u001b[0m \u001b[1;33m=\u001b[0m \u001b[0mdummy\u001b[0m\u001b[1;33m[\u001b[0m\u001b[0mdummy\u001b[0m\u001b[1;33m[\u001b[0m\u001b[1;34m'Province'\u001b[0m\u001b[1;33m]\u001b[0m \u001b[1;33m==\u001b[0m \u001b[1;34m'INDONESIA'\u001b[0m\u001b[1;33m]\u001b[0m\u001b[1;33m.\u001b[0m\u001b[0mindex\u001b[0m\u001b[1;33m\u001b[0m\u001b[1;33m\u001b[0m\u001b[0m\n\u001b[0m\u001b[0;32m      9\u001b[0m \u001b[0mdummy\u001b[0m\u001b[1;33m.\u001b[0m\u001b[0mdrop\u001b[0m\u001b[1;33m(\u001b[0m\u001b[0mrow_index\u001b[0m\u001b[1;33m,\u001b[0m \u001b[0minplace\u001b[0m\u001b[1;33m=\u001b[0m\u001b[1;32mTrue\u001b[0m\u001b[1;33m)\u001b[0m\u001b[1;33m\u001b[0m\u001b[1;33m\u001b[0m\u001b[0m\n\u001b[0;32m     10\u001b[0m \u001b[0mprint\u001b[0m\u001b[1;33m(\u001b[0m\u001b[1;34m\"\\n\"\u001b[0m\u001b[1;33m,\u001b[0m \u001b[1;34m\"The dataframe's shape: \"\u001b[0m\u001b[1;33m,\u001b[0m \u001b[0mdummy\u001b[0m\u001b[1;33m.\u001b[0m\u001b[0mshape\u001b[0m\u001b[1;33m)\u001b[0m\u001b[1;33m\u001b[0m\u001b[1;33m\u001b[0m\u001b[0m\n",
      "\u001b[1;32mc:\\users\\asus\\appdata\\local\\programs\\python\\python37\\lib\\site-packages\\pandas\\core\\frame.py\u001b[0m in \u001b[0;36m__getitem__\u001b[1;34m(self, key)\u001b[0m\n\u001b[0;32m   2993\u001b[0m             \u001b[1;32mif\u001b[0m \u001b[0mself\u001b[0m\u001b[1;33m.\u001b[0m\u001b[0mcolumns\u001b[0m\u001b[1;33m.\u001b[0m\u001b[0mnlevels\u001b[0m \u001b[1;33m>\u001b[0m \u001b[1;36m1\u001b[0m\u001b[1;33m:\u001b[0m\u001b[1;33m\u001b[0m\u001b[1;33m\u001b[0m\u001b[0m\n\u001b[0;32m   2994\u001b[0m                 \u001b[1;32mreturn\u001b[0m \u001b[0mself\u001b[0m\u001b[1;33m.\u001b[0m\u001b[0m_getitem_multilevel\u001b[0m\u001b[1;33m(\u001b[0m\u001b[0mkey\u001b[0m\u001b[1;33m)\u001b[0m\u001b[1;33m\u001b[0m\u001b[1;33m\u001b[0m\u001b[0m\n\u001b[1;32m-> 2995\u001b[1;33m             \u001b[0mindexer\u001b[0m \u001b[1;33m=\u001b[0m \u001b[0mself\u001b[0m\u001b[1;33m.\u001b[0m\u001b[0mcolumns\u001b[0m\u001b[1;33m.\u001b[0m\u001b[0mget_loc\u001b[0m\u001b[1;33m(\u001b[0m\u001b[0mkey\u001b[0m\u001b[1;33m)\u001b[0m\u001b[1;33m\u001b[0m\u001b[1;33m\u001b[0m\u001b[0m\n\u001b[0m\u001b[0;32m   2996\u001b[0m             \u001b[1;32mif\u001b[0m \u001b[0mis_integer\u001b[0m\u001b[1;33m(\u001b[0m\u001b[0mindexer\u001b[0m\u001b[1;33m)\u001b[0m\u001b[1;33m:\u001b[0m\u001b[1;33m\u001b[0m\u001b[1;33m\u001b[0m\u001b[0m\n\u001b[0;32m   2997\u001b[0m                 \u001b[0mindexer\u001b[0m \u001b[1;33m=\u001b[0m \u001b[1;33m[\u001b[0m\u001b[0mindexer\u001b[0m\u001b[1;33m]\u001b[0m\u001b[1;33m\u001b[0m\u001b[1;33m\u001b[0m\u001b[0m\n",
      "\u001b[1;32mc:\\users\\asus\\appdata\\local\\programs\\python\\python37\\lib\\site-packages\\pandas\\core\\indexes\\base.py\u001b[0m in \u001b[0;36mget_loc\u001b[1;34m(self, key, method, tolerance)\u001b[0m\n\u001b[0;32m   2897\u001b[0m                 \u001b[1;32mreturn\u001b[0m \u001b[0mself\u001b[0m\u001b[1;33m.\u001b[0m\u001b[0m_engine\u001b[0m\u001b[1;33m.\u001b[0m\u001b[0mget_loc\u001b[0m\u001b[1;33m(\u001b[0m\u001b[0mkey\u001b[0m\u001b[1;33m)\u001b[0m\u001b[1;33m\u001b[0m\u001b[1;33m\u001b[0m\u001b[0m\n\u001b[0;32m   2898\u001b[0m             \u001b[1;32mexcept\u001b[0m \u001b[0mKeyError\u001b[0m\u001b[1;33m:\u001b[0m\u001b[1;33m\u001b[0m\u001b[1;33m\u001b[0m\u001b[0m\n\u001b[1;32m-> 2899\u001b[1;33m                 \u001b[1;32mreturn\u001b[0m \u001b[0mself\u001b[0m\u001b[1;33m.\u001b[0m\u001b[0m_engine\u001b[0m\u001b[1;33m.\u001b[0m\u001b[0mget_loc\u001b[0m\u001b[1;33m(\u001b[0m\u001b[0mself\u001b[0m\u001b[1;33m.\u001b[0m\u001b[0m_maybe_cast_indexer\u001b[0m\u001b[1;33m(\u001b[0m\u001b[0mkey\u001b[0m\u001b[1;33m)\u001b[0m\u001b[1;33m)\u001b[0m\u001b[1;33m\u001b[0m\u001b[1;33m\u001b[0m\u001b[0m\n\u001b[0m\u001b[0;32m   2900\u001b[0m         \u001b[0mindexer\u001b[0m \u001b[1;33m=\u001b[0m \u001b[0mself\u001b[0m\u001b[1;33m.\u001b[0m\u001b[0mget_indexer\u001b[0m\u001b[1;33m(\u001b[0m\u001b[1;33m[\u001b[0m\u001b[0mkey\u001b[0m\u001b[1;33m]\u001b[0m\u001b[1;33m,\u001b[0m \u001b[0mmethod\u001b[0m\u001b[1;33m=\u001b[0m\u001b[0mmethod\u001b[0m\u001b[1;33m,\u001b[0m \u001b[0mtolerance\u001b[0m\u001b[1;33m=\u001b[0m\u001b[0mtolerance\u001b[0m\u001b[1;33m)\u001b[0m\u001b[1;33m\u001b[0m\u001b[1;33m\u001b[0m\u001b[0m\n\u001b[0;32m   2901\u001b[0m         \u001b[1;32mif\u001b[0m \u001b[0mindexer\u001b[0m\u001b[1;33m.\u001b[0m\u001b[0mndim\u001b[0m \u001b[1;33m>\u001b[0m \u001b[1;36m1\u001b[0m \u001b[1;32mor\u001b[0m \u001b[0mindexer\u001b[0m\u001b[1;33m.\u001b[0m\u001b[0msize\u001b[0m \u001b[1;33m>\u001b[0m \u001b[1;36m1\u001b[0m\u001b[1;33m:\u001b[0m\u001b[1;33m\u001b[0m\u001b[1;33m\u001b[0m\u001b[0m\n",
      "\u001b[1;32mpandas/_libs/index.pyx\u001b[0m in \u001b[0;36mpandas._libs.index.IndexEngine.get_loc\u001b[1;34m()\u001b[0m\n",
      "\u001b[1;32mpandas/_libs/index.pyx\u001b[0m in \u001b[0;36mpandas._libs.index.IndexEngine.get_loc\u001b[1;34m()\u001b[0m\n",
      "\u001b[1;32mpandas/_libs/hashtable_class_helper.pxi\u001b[0m in \u001b[0;36mpandas._libs.hashtable.PyObjectHashTable.get_item\u001b[1;34m()\u001b[0m\n",
      "\u001b[1;32mpandas/_libs/hashtable_class_helper.pxi\u001b[0m in \u001b[0;36mpandas._libs.hashtable.PyObjectHashTable.get_item\u001b[1;34m()\u001b[0m\n",
      "\u001b[1;31mKeyError\u001b[0m: 'Province'"
     ]
    }
   ],
   "source": [
    "# dummy = pd.read_excel('Data Source\\\\Number of BTS Tower.xlsx', skiprows = 1)\n",
    "# dummy = dummy.iloc[:, [0] + [-1]]\n",
    "\n",
    "# # Rename the columns' name to make it more understandable\n",
    "# dummy.rename(columns={'Provinsi':'Province', '2017':'Distributed Electricity by 2017 (GWh)'}, inplace=True)\n",
    "\n",
    "# # Drop unnecesarry row\n",
    "# row_index = dummy[dummy['Province'] == 'INDONESIA'].index\n",
    "# dummy.drop(row_index, inplace=True)\n",
    "# print(\"\\n\", \"The dataframe's shape: \", dummy.shape)\n",
    "# dummy.head()"
   ]
  },
  {
   "cell_type": "markdown",
   "metadata": {},
   "source": [
    "#### Add Column: "
   ]
  },
  {
   "cell_type": "code",
   "execution_count": 19,
   "metadata": {},
   "outputs": [
    {
     "name": "stdout",
     "output_type": "stream",
     "text": [
      "131\n",
      "\n"
     ]
    }
   ],
   "source": [
    "rbi_book = open('Data Source\\\\Buku_RBI.pdf', 'rb')\n",
    "pdfReader = PyPDF2.PdfFileReader(rbi_book)\n",
    "# print(pdfReader.numPages)\n",
    "pageObj = pdfReader.getPage(130)\n",
    "print(pageObj.extractText())"
   ]
  },
  {
   "cell_type": "markdown",
   "metadata": {},
   "source": [
    "#### Add Column: "
   ]
  },
  {
   "cell_type": "markdown",
   "metadata": {},
   "source": [
    "#### Add Column: "
   ]
  },
  {
   "cell_type": "markdown",
   "metadata": {},
   "source": [
    "#### Merge"
   ]
  },
  {
   "cell_type": "code",
   "execution_count": null,
   "metadata": {
    "scrolled": true
   },
   "outputs": [],
   "source": [
    "provinces_data = pd.merge(provinces_data, population_density, on='Province')\n",
    "provinces_data = pd.merge(provinces_data, numb_school, on='Province')\n",
    "provinces_data = pd.merge(provinces_data, health_facility, on='Province')\n",
    "print(\"\\n\", \"The dataframe's shape: \", population_density.shape)\n",
    "provinces_data"
   ]
  },
  {
   "cell_type": "markdown",
   "metadata": {},
   "source": []
  },
  {
   "cell_type": "code",
   "execution_count": 65,
   "metadata": {},
   "outputs": [
    {
     "name": "stdout",
     "output_type": "stream",
     "text": [
      " 4.267.349 pada 2020.\n",
      " 3.516.700 pada 2020.\n",
      " 3.310.723 pada 2020.\n",
      " 3.230.022 pada 2020.\n",
      " 3.134.600 pada 2020.\n",
      " 3.165.030 pada 2020.\n",
      " 3.103.800 pada 2020.\n",
      " 3.043.111 pada 2020.\n",
      " 3.005.383 pada 2020.\n",
      " 3.000.803 pada 2020.\n",
      " 2.981.378 pada 2020.\n",
      " 2.903.144 pada 2020.\n",
      " 2.888.563 pada 2020.\n",
      " 2.877.447 pada 2020.\n",
      " 2.721.530 pada 2020.\n",
      " 2.630.161 pada 2020.\n",
      " 2.604.960 pada 2020.\n"
     ]
    },
    {
     "ename": "IndexError",
     "evalue": "list index out of range",
     "output_type": "error",
     "traceback": [
      "\u001b[1;31m---------------------------------------------------------------------------\u001b[0m",
      "\u001b[1;31mIndexError\u001b[0m                                Traceback (most recent call last)",
      "\u001b[1;32m<ipython-input-65-a83799579d8f>\u001b[0m in \u001b[0;36m<module>\u001b[1;34m\u001b[0m\n\u001b[0;32m     13\u001b[0m     \u001b[0mvalue\u001b[0m \u001b[1;33m=\u001b[0m \u001b[0mspan\u001b[0m\u001b[1;33m.\u001b[0m\u001b[0mtext\u001b[0m\u001b[1;33m\u001b[0m\u001b[1;33m\u001b[0m\u001b[0m\n\u001b[0;32m     14\u001b[0m     \u001b[0mprovince\u001b[0m \u001b[1;33m=\u001b[0m \u001b[0mvalue\u001b[0m\u001b[1;33m.\u001b[0m\u001b[0msplit\u001b[0m\u001b[1;33m(\u001b[0m\u001b[1;34m\" dari\"\u001b[0m\u001b[1;33m)\u001b[0m\u001b[1;33m[\u001b[0m\u001b[1;36m0\u001b[0m\u001b[1;33m]\u001b[0m\u001b[1;33m\u001b[0m\u001b[1;33m\u001b[0m\u001b[0m\n\u001b[1;32m---> 15\u001b[1;33m     \u001b[0mmin_wage\u001b[0m \u001b[1;33m=\u001b[0m \u001b[0mvalue\u001b[0m\u001b[1;33m.\u001b[0m\u001b[0msplit\u001b[0m\u001b[1;33m(\u001b[0m\u001b[1;34m\"Rp\"\u001b[0m\u001b[1;33m,\u001b[0m \u001b[1;33m-\u001b[0m\u001b[1;36m1\u001b[0m\u001b[1;33m)\u001b[0m\u001b[1;33m[\u001b[0m\u001b[1;36m2\u001b[0m\u001b[1;33m]\u001b[0m\u001b[1;33m\u001b[0m\u001b[1;33m\u001b[0m\u001b[0m\n\u001b[0m\u001b[0;32m     16\u001b[0m     \u001b[0mprint\u001b[0m\u001b[1;33m(\u001b[0m\u001b[0mmin_wage\u001b[0m\u001b[1;33m)\u001b[0m\u001b[1;33m\u001b[0m\u001b[1;33m\u001b[0m\u001b[0m\n\u001b[0;32m     17\u001b[0m \u001b[1;31m#     # find all the enclosing a tags.\u001b[0m\u001b[1;33m\u001b[0m\u001b[1;33m\u001b[0m\u001b[1;33m\u001b[0m\u001b[0m\n",
      "\u001b[1;31mIndexError\u001b[0m: list index out of range"
     ]
    }
   ],
   "source": [
    "from bs4 import BeautifulSoup\n",
    "import requests\n",
    "import unicodedata\n",
    "from pandas import DataFrame\n",
    "\n",
    "page = requests.get(\"https://finansial.bisnis.com/read/20191103/11/1166176/ini-daftar-ump-2020-di-34-provinsi\")\n",
    "soup = BeautifulSoup(page.content, 'html.parser')\n",
    "table = []\n",
    "# Find all the divs we need in one go.\n",
    "span_tag = soup.find_all('span')\n",
    "span_tag_needed = span_tag[2:36]\n",
    "for span in span_tag_needed:\n",
    "    value = span.text\n",
    "    province = value.split(\" dari\")[0]\n",
    "    min_wage = value.split(\"Rp\", -1)[2]\n",
    "    print(min_wage)\n",
    "#     # find all the enclosing a tags.\n",
    "#     anchors = div.find_all('a')\n",
    "#     for anchor in anchors:\n",
    "#         # Now we have groups of 3 list items (li) tags\n",
    "#         lis = anchor.find_all('li')\n",
    "#         # we clean up the text from the group of 3 li tags and add them as a list to our table list.\n",
    "#         table.append([unicodedata.normalize(\"NFKD\",lis[0].text).strip(), lis[1].text, lis[2].text.strip()])\n",
    "# # We have all the data so we add it to a DataFrame.\n",
    "# headers = ['Number', 'Tenant', 'Square Footage']\n",
    "# df = DataFrame(table, columns=headers)\n",
    "# print (df)"
   ]
  },
  {
   "cell_type": "code",
   "execution_count": null,
   "metadata": {},
   "outputs": [],
   "source": []
  }
 ],
 "metadata": {
  "kernelspec": {
   "display_name": "Python 3",
   "language": "python",
   "name": "python3"
  },
  "language_info": {
   "codemirror_mode": {
    "name": "ipython",
    "version": 3
   },
   "file_extension": ".py",
   "mimetype": "text/x-python",
   "name": "python",
   "nbconvert_exporter": "python",
   "pygments_lexer": "ipython3",
   "version": "3.7.4"
  }
 },
 "nbformat": 4,
 "nbformat_minor": 2
}
